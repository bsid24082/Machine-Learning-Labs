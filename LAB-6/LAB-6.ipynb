{
 "cells": [
  {
   "cell_type": "code",
   "execution_count": 1,
   "id": "0bceb5de-f851-4738-9cb2-65b0a391e39d",
   "metadata": {},
   "outputs": [],
   "source": [
    "import numpy as np\n",
    "import pandas as pd\n",
    "import seaborn as sns\n",
    "import matplotlib.pyplot as plt\n",
    "from sklearn.linear_model import LinearRegression\n",
    "from sklearn.metrics import r2_score,mean_squared_error\n",
    "from sklearn import linear_model\n",
    "from sklearn.linear_model import Ridge, Lasso, ElasticNet\n",
    "from sklearn.linear_model import Lasso"
   ]
  },
  {
   "cell_type": "code",
   "execution_count": 2,
   "id": "2cc51510-fb36-4aa1-a3e2-589ca25644c9",
   "metadata": {},
   "outputs": [],
   "source": [
    "df = pd.read_csv('E.csv')"
   ]
  },
  {
   "cell_type": "code",
   "execution_count": 3,
   "id": "3a55ac63-534e-4b26-aa0c-a4f9175ea67f",
   "metadata": {},
   "outputs": [],
   "source": [
    "df.head(10)\n",
    "dff = df.copy()"
   ]
  },
  {
   "cell_type": "code",
   "execution_count": 4,
   "id": "896e4bc6-816e-4a27-8884-be0512da533e",
   "metadata": {},
   "outputs": [
    {
     "data": {
      "text/plain": [
       "age                          47\n",
       "anaemia                       2\n",
       "creatinine_phosphokinase    208\n",
       "diabetes                      2\n",
       "ejection_fraction            17\n",
       "high_blood_pressure           2\n",
       "platelets                   176\n",
       "serum_creatinine             40\n",
       "serum_sodium                 27\n",
       "sex                           2\n",
       "smoking                       2\n",
       "dtype: int64"
      ]
     },
     "execution_count": 4,
     "metadata": {},
     "output_type": "execute_result"
    }
   ],
   "source": [
    "df.nunique()"
   ]
  },
  {
   "cell_type": "code",
   "execution_count": 5,
   "id": "d72d74d7-6a47-4784-ba40-3df0d7ccf994",
   "metadata": {},
   "outputs": [
    {
     "data": {
      "text/plain": [
       "age                         4.347826\n",
       "anaemia                     6.020067\n",
       "creatinine_phosphokinase    0.000000\n",
       "diabetes                    2.341137\n",
       "ejection_fraction           4.013378\n",
       "high_blood_pressure         2.675585\n",
       "platelets                   0.000000\n",
       "serum_creatinine            0.334448\n",
       "serum_sodium                3.678930\n",
       "sex                         1.672241\n",
       "smoking                     3.678930\n",
       "dtype: float64"
      ]
     },
     "execution_count": 5,
     "metadata": {},
     "output_type": "execute_result"
    }
   ],
   "source": [
    "#df.isnull().sum()\n",
    "df.isnull().mean()*100"
   ]
  },
  {
   "cell_type": "code",
   "execution_count": 6,
   "id": "b9704438-2a28-4caf-ab9e-b09bf60a5818",
   "metadata": {},
   "outputs": [
    {
     "data": {
      "text/plain": [
       "age                         13\n",
       "anaemia                     18\n",
       "creatinine_phosphokinase     0\n",
       "diabetes                     7\n",
       "ejection_fraction           12\n",
       "high_blood_pressure          8\n",
       "platelets                    0\n",
       "serum_creatinine             1\n",
       "serum_sodium                11\n",
       "sex                          5\n",
       "smoking                     11\n",
       "dtype: int64"
      ]
     },
     "execution_count": 6,
     "metadata": {},
     "output_type": "execute_result"
    }
   ],
   "source": [
    "df.isnull().sum()"
   ]
  },
  {
   "cell_type": "code",
   "execution_count": 7,
   "id": "0bf08a7e-d3d0-42c3-ae1e-8ccd2e6d064f",
   "metadata": {},
   "outputs": [
    {
     "data": {
      "text/html": [
       "<div>\n",
       "<style scoped>\n",
       "    .dataframe tbody tr th:only-of-type {\n",
       "        vertical-align: middle;\n",
       "    }\n",
       "\n",
       "    .dataframe tbody tr th {\n",
       "        vertical-align: top;\n",
       "    }\n",
       "\n",
       "    .dataframe thead th {\n",
       "        text-align: right;\n",
       "    }\n",
       "</style>\n",
       "<table border=\"1\" class=\"dataframe\">\n",
       "  <thead>\n",
       "    <tr style=\"text-align: right;\">\n",
       "      <th></th>\n",
       "      <th>age</th>\n",
       "      <th>anaemia</th>\n",
       "      <th>creatinine_phosphokinase</th>\n",
       "      <th>diabetes</th>\n",
       "      <th>ejection_fraction</th>\n",
       "      <th>high_blood_pressure</th>\n",
       "      <th>platelets</th>\n",
       "      <th>serum_creatinine</th>\n",
       "      <th>serum_sodium</th>\n",
       "      <th>sex</th>\n",
       "      <th>smoking</th>\n",
       "    </tr>\n",
       "  </thead>\n",
       "  <tbody>\n",
       "    <tr>\n",
       "      <th>0</th>\n",
       "      <td>NaN</td>\n",
       "      <td>0.0</td>\n",
       "      <td>582</td>\n",
       "      <td>0.0</td>\n",
       "      <td>20.0</td>\n",
       "      <td>1.0</td>\n",
       "      <td>265000.00</td>\n",
       "      <td>1.9</td>\n",
       "      <td>130.0</td>\n",
       "      <td>1.0</td>\n",
       "      <td>0.0</td>\n",
       "    </tr>\n",
       "    <tr>\n",
       "      <th>1</th>\n",
       "      <td>NaN</td>\n",
       "      <td>0.0</td>\n",
       "      <td>7861</td>\n",
       "      <td>0.0</td>\n",
       "      <td>38.0</td>\n",
       "      <td>0.0</td>\n",
       "      <td>263358.03</td>\n",
       "      <td>1.1</td>\n",
       "      <td>136.0</td>\n",
       "      <td>1.0</td>\n",
       "      <td>0.0</td>\n",
       "    </tr>\n",
       "    <tr>\n",
       "      <th>2</th>\n",
       "      <td>NaN</td>\n",
       "      <td>0.0</td>\n",
       "      <td>146</td>\n",
       "      <td>0.0</td>\n",
       "      <td>20.0</td>\n",
       "      <td>0.0</td>\n",
       "      <td>162000.00</td>\n",
       "      <td>1.3</td>\n",
       "      <td>129.0</td>\n",
       "      <td>1.0</td>\n",
       "      <td>1.0</td>\n",
       "    </tr>\n",
       "    <tr>\n",
       "      <th>3</th>\n",
       "      <td>NaN</td>\n",
       "      <td>1.0</td>\n",
       "      <td>111</td>\n",
       "      <td>0.0</td>\n",
       "      <td>20.0</td>\n",
       "      <td>0.0</td>\n",
       "      <td>210000.00</td>\n",
       "      <td>1.9</td>\n",
       "      <td>137.0</td>\n",
       "      <td>1.0</td>\n",
       "      <td>0.0</td>\n",
       "    </tr>\n",
       "    <tr>\n",
       "      <th>4</th>\n",
       "      <td>NaN</td>\n",
       "      <td>1.0</td>\n",
       "      <td>160</td>\n",
       "      <td>1.0</td>\n",
       "      <td>20.0</td>\n",
       "      <td>0.0</td>\n",
       "      <td>327000.00</td>\n",
       "      <td>2.7</td>\n",
       "      <td>116.0</td>\n",
       "      <td>0.0</td>\n",
       "      <td>0.0</td>\n",
       "    </tr>\n",
       "    <tr>\n",
       "      <th>5</th>\n",
       "      <td>NaN</td>\n",
       "      <td>1.0</td>\n",
       "      <td>47</td>\n",
       "      <td>0.0</td>\n",
       "      <td>40.0</td>\n",
       "      <td>1.0</td>\n",
       "      <td>204000.00</td>\n",
       "      <td>2.1</td>\n",
       "      <td>132.0</td>\n",
       "      <td>1.0</td>\n",
       "      <td>1.0</td>\n",
       "    </tr>\n",
       "    <tr>\n",
       "      <th>6</th>\n",
       "      <td>NaN</td>\n",
       "      <td>1.0</td>\n",
       "      <td>246</td>\n",
       "      <td>0.0</td>\n",
       "      <td>15.0</td>\n",
       "      <td>0.0</td>\n",
       "      <td>127000.00</td>\n",
       "      <td>NaN</td>\n",
       "      <td>137.0</td>\n",
       "      <td>1.0</td>\n",
       "      <td>0.0</td>\n",
       "    </tr>\n",
       "    <tr>\n",
       "      <th>7</th>\n",
       "      <td>NaN</td>\n",
       "      <td>1.0</td>\n",
       "      <td>315</td>\n",
       "      <td>1.0</td>\n",
       "      <td>60.0</td>\n",
       "      <td>0.0</td>\n",
       "      <td>454000.00</td>\n",
       "      <td>1.1</td>\n",
       "      <td>NaN</td>\n",
       "      <td>1.0</td>\n",
       "      <td>1.0</td>\n",
       "    </tr>\n",
       "    <tr>\n",
       "      <th>8</th>\n",
       "      <td>NaN</td>\n",
       "      <td>0.0</td>\n",
       "      <td>157</td>\n",
       "      <td>0.0</td>\n",
       "      <td>65.0</td>\n",
       "      <td>0.0</td>\n",
       "      <td>263358.03</td>\n",
       "      <td>1.5</td>\n",
       "      <td>138.0</td>\n",
       "      <td>0.0</td>\n",
       "      <td>0.0</td>\n",
       "    </tr>\n",
       "    <tr>\n",
       "      <th>9</th>\n",
       "      <td>NaN</td>\n",
       "      <td>1.0</td>\n",
       "      <td>123</td>\n",
       "      <td>0.0</td>\n",
       "      <td>35.0</td>\n",
       "      <td>1.0</td>\n",
       "      <td>388000.00</td>\n",
       "      <td>9.4</td>\n",
       "      <td>133.0</td>\n",
       "      <td>1.0</td>\n",
       "      <td>1.0</td>\n",
       "    </tr>\n",
       "    <tr>\n",
       "      <th>10</th>\n",
       "      <td>NaN</td>\n",
       "      <td>1.0</td>\n",
       "      <td>81</td>\n",
       "      <td>0.0</td>\n",
       "      <td>38.0</td>\n",
       "      <td>1.0</td>\n",
       "      <td>368000.00</td>\n",
       "      <td>4.0</td>\n",
       "      <td>131.0</td>\n",
       "      <td>1.0</td>\n",
       "      <td>1.0</td>\n",
       "    </tr>\n",
       "    <tr>\n",
       "      <th>11</th>\n",
       "      <td>NaN</td>\n",
       "      <td>0.0</td>\n",
       "      <td>231</td>\n",
       "      <td>0.0</td>\n",
       "      <td>25.0</td>\n",
       "      <td>1.0</td>\n",
       "      <td>253000.00</td>\n",
       "      <td>0.9</td>\n",
       "      <td>140.0</td>\n",
       "      <td>1.0</td>\n",
       "      <td>1.0</td>\n",
       "    </tr>\n",
       "    <tr>\n",
       "      <th>12</th>\n",
       "      <td>NaN</td>\n",
       "      <td>1.0</td>\n",
       "      <td>981</td>\n",
       "      <td>0.0</td>\n",
       "      <td>30.0</td>\n",
       "      <td>0.0</td>\n",
       "      <td>136000.00</td>\n",
       "      <td>1.1</td>\n",
       "      <td>137.0</td>\n",
       "      <td>1.0</td>\n",
       "      <td>0.0</td>\n",
       "    </tr>\n",
       "    <tr>\n",
       "      <th>13</th>\n",
       "      <td>50.0</td>\n",
       "      <td>1.0</td>\n",
       "      <td>168</td>\n",
       "      <td>0.0</td>\n",
       "      <td>38.0</td>\n",
       "      <td>1.0</td>\n",
       "      <td>276000.00</td>\n",
       "      <td>1.1</td>\n",
       "      <td>137.0</td>\n",
       "      <td>1.0</td>\n",
       "      <td>0.0</td>\n",
       "    </tr>\n",
       "    <tr>\n",
       "      <th>14</th>\n",
       "      <td>49.0</td>\n",
       "      <td>1.0</td>\n",
       "      <td>80</td>\n",
       "      <td>0.0</td>\n",
       "      <td>30.0</td>\n",
       "      <td>1.0</td>\n",
       "      <td>427000.00</td>\n",
       "      <td>1.0</td>\n",
       "      <td>138.0</td>\n",
       "      <td>0.0</td>\n",
       "      <td>0.0</td>\n",
       "    </tr>\n",
       "    <tr>\n",
       "      <th>15</th>\n",
       "      <td>82.0</td>\n",
       "      <td>1.0</td>\n",
       "      <td>379</td>\n",
       "      <td>0.0</td>\n",
       "      <td>50.0</td>\n",
       "      <td>0.0</td>\n",
       "      <td>47000.00</td>\n",
       "      <td>1.3</td>\n",
       "      <td>NaN</td>\n",
       "      <td>1.0</td>\n",
       "      <td>0.0</td>\n",
       "    </tr>\n",
       "    <tr>\n",
       "      <th>16</th>\n",
       "      <td>87.0</td>\n",
       "      <td>1.0</td>\n",
       "      <td>149</td>\n",
       "      <td>0.0</td>\n",
       "      <td>NaN</td>\n",
       "      <td>0.0</td>\n",
       "      <td>262000.00</td>\n",
       "      <td>0.9</td>\n",
       "      <td>140.0</td>\n",
       "      <td>1.0</td>\n",
       "      <td>0.0</td>\n",
       "    </tr>\n",
       "    <tr>\n",
       "      <th>17</th>\n",
       "      <td>45.0</td>\n",
       "      <td>0.0</td>\n",
       "      <td>582</td>\n",
       "      <td>0.0</td>\n",
       "      <td>14.0</td>\n",
       "      <td>0.0</td>\n",
       "      <td>166000.00</td>\n",
       "      <td>0.8</td>\n",
       "      <td>127.0</td>\n",
       "      <td>1.0</td>\n",
       "      <td>0.0</td>\n",
       "    </tr>\n",
       "    <tr>\n",
       "      <th>18</th>\n",
       "      <td>70.0</td>\n",
       "      <td>1.0</td>\n",
       "      <td>125</td>\n",
       "      <td>0.0</td>\n",
       "      <td>NaN</td>\n",
       "      <td>1.0</td>\n",
       "      <td>237000.00</td>\n",
       "      <td>1.0</td>\n",
       "      <td>140.0</td>\n",
       "      <td>0.0</td>\n",
       "      <td>0.0</td>\n",
       "    </tr>\n",
       "    <tr>\n",
       "      <th>19</th>\n",
       "      <td>48.0</td>\n",
       "      <td>1.0</td>\n",
       "      <td>582</td>\n",
       "      <td>1.0</td>\n",
       "      <td>55.0</td>\n",
       "      <td>0.0</td>\n",
       "      <td>87000.00</td>\n",
       "      <td>1.9</td>\n",
       "      <td>121.0</td>\n",
       "      <td>0.0</td>\n",
       "      <td>0.0</td>\n",
       "    </tr>\n",
       "  </tbody>\n",
       "</table>\n",
       "</div>"
      ],
      "text/plain": [
       "     age  anaemia  creatinine_phosphokinase  diabetes  ejection_fraction  \\\n",
       "0    NaN      0.0                       582       0.0               20.0   \n",
       "1    NaN      0.0                      7861       0.0               38.0   \n",
       "2    NaN      0.0                       146       0.0               20.0   \n",
       "3    NaN      1.0                       111       0.0               20.0   \n",
       "4    NaN      1.0                       160       1.0               20.0   \n",
       "5    NaN      1.0                        47       0.0               40.0   \n",
       "6    NaN      1.0                       246       0.0               15.0   \n",
       "7    NaN      1.0                       315       1.0               60.0   \n",
       "8    NaN      0.0                       157       0.0               65.0   \n",
       "9    NaN      1.0                       123       0.0               35.0   \n",
       "10   NaN      1.0                        81       0.0               38.0   \n",
       "11   NaN      0.0                       231       0.0               25.0   \n",
       "12   NaN      1.0                       981       0.0               30.0   \n",
       "13  50.0      1.0                       168       0.0               38.0   \n",
       "14  49.0      1.0                        80       0.0               30.0   \n",
       "15  82.0      1.0                       379       0.0               50.0   \n",
       "16  87.0      1.0                       149       0.0                NaN   \n",
       "17  45.0      0.0                       582       0.0               14.0   \n",
       "18  70.0      1.0                       125       0.0                NaN   \n",
       "19  48.0      1.0                       582       1.0               55.0   \n",
       "\n",
       "    high_blood_pressure  platelets  serum_creatinine  serum_sodium  sex  \\\n",
       "0                   1.0  265000.00               1.9         130.0  1.0   \n",
       "1                   0.0  263358.03               1.1         136.0  1.0   \n",
       "2                   0.0  162000.00               1.3         129.0  1.0   \n",
       "3                   0.0  210000.00               1.9         137.0  1.0   \n",
       "4                   0.0  327000.00               2.7         116.0  0.0   \n",
       "5                   1.0  204000.00               2.1         132.0  1.0   \n",
       "6                   0.0  127000.00               NaN         137.0  1.0   \n",
       "7                   0.0  454000.00               1.1           NaN  1.0   \n",
       "8                   0.0  263358.03               1.5         138.0  0.0   \n",
       "9                   1.0  388000.00               9.4         133.0  1.0   \n",
       "10                  1.0  368000.00               4.0         131.0  1.0   \n",
       "11                  1.0  253000.00               0.9         140.0  1.0   \n",
       "12                  0.0  136000.00               1.1         137.0  1.0   \n",
       "13                  1.0  276000.00               1.1         137.0  1.0   \n",
       "14                  1.0  427000.00               1.0         138.0  0.0   \n",
       "15                  0.0   47000.00               1.3           NaN  1.0   \n",
       "16                  0.0  262000.00               0.9         140.0  1.0   \n",
       "17                  0.0  166000.00               0.8         127.0  1.0   \n",
       "18                  1.0  237000.00               1.0         140.0  0.0   \n",
       "19                  0.0   87000.00               1.9         121.0  0.0   \n",
       "\n",
       "    smoking  \n",
       "0       0.0  \n",
       "1       0.0  \n",
       "2       1.0  \n",
       "3       0.0  \n",
       "4       0.0  \n",
       "5       1.0  \n",
       "6       0.0  \n",
       "7       1.0  \n",
       "8       0.0  \n",
       "9       1.0  \n",
       "10      1.0  \n",
       "11      1.0  \n",
       "12      0.0  \n",
       "13      0.0  \n",
       "14      0.0  \n",
       "15      0.0  \n",
       "16      0.0  \n",
       "17      0.0  \n",
       "18      0.0  \n",
       "19      0.0  "
      ]
     },
     "execution_count": 7,
     "metadata": {},
     "output_type": "execute_result"
    }
   ],
   "source": [
    "df.head(20)"
   ]
  },
  {
   "cell_type": "code",
   "execution_count": 8,
   "id": "afb052b2-c344-4b4f-9c4d-96a7d0861fcf",
   "metadata": {},
   "outputs": [
    {
     "data": {
      "text/html": [
       "<div>\n",
       "<style scoped>\n",
       "    .dataframe tbody tr th:only-of-type {\n",
       "        vertical-align: middle;\n",
       "    }\n",
       "\n",
       "    .dataframe tbody tr th {\n",
       "        vertical-align: top;\n",
       "    }\n",
       "\n",
       "    .dataframe thead th {\n",
       "        text-align: right;\n",
       "    }\n",
       "</style>\n",
       "<table border=\"1\" class=\"dataframe\">\n",
       "  <thead>\n",
       "    <tr style=\"text-align: right;\">\n",
       "      <th></th>\n",
       "      <th>age</th>\n",
       "      <th>anaemia</th>\n",
       "      <th>creatinine_phosphokinase</th>\n",
       "      <th>diabetes</th>\n",
       "      <th>ejection_fraction</th>\n",
       "      <th>high_blood_pressure</th>\n",
       "      <th>platelets</th>\n",
       "      <th>serum_creatinine</th>\n",
       "      <th>serum_sodium</th>\n",
       "      <th>sex</th>\n",
       "      <th>smoking</th>\n",
       "    </tr>\n",
       "  </thead>\n",
       "  <tbody>\n",
       "    <tr>\n",
       "      <th>279</th>\n",
       "      <td>55.0</td>\n",
       "      <td>0.0</td>\n",
       "      <td>84</td>\n",
       "      <td>1.0</td>\n",
       "      <td>38.0</td>\n",
       "      <td>0.0</td>\n",
       "      <td>451000.00</td>\n",
       "      <td>1.3</td>\n",
       "      <td>136.0</td>\n",
       "      <td>0.0</td>\n",
       "      <td>0.0</td>\n",
       "    </tr>\n",
       "    <tr>\n",
       "      <th>280</th>\n",
       "      <td>70.0</td>\n",
       "      <td>0.0</td>\n",
       "      <td>2695</td>\n",
       "      <td>1.0</td>\n",
       "      <td>40.0</td>\n",
       "      <td>0.0</td>\n",
       "      <td>241000.00</td>\n",
       "      <td>1.0</td>\n",
       "      <td>137.0</td>\n",
       "      <td>1.0</td>\n",
       "      <td>0.0</td>\n",
       "    </tr>\n",
       "    <tr>\n",
       "      <th>281</th>\n",
       "      <td>70.0</td>\n",
       "      <td>0.0</td>\n",
       "      <td>582</td>\n",
       "      <td>0.0</td>\n",
       "      <td>40.0</td>\n",
       "      <td>0.0</td>\n",
       "      <td>51000.00</td>\n",
       "      <td>2.7</td>\n",
       "      <td>136.0</td>\n",
       "      <td>1.0</td>\n",
       "      <td>1.0</td>\n",
       "    </tr>\n",
       "    <tr>\n",
       "      <th>282</th>\n",
       "      <td>42.0</td>\n",
       "      <td>0.0</td>\n",
       "      <td>64</td>\n",
       "      <td>0.0</td>\n",
       "      <td>30.0</td>\n",
       "      <td>0.0</td>\n",
       "      <td>215000.00</td>\n",
       "      <td>3.8</td>\n",
       "      <td>128.0</td>\n",
       "      <td>1.0</td>\n",
       "      <td>1.0</td>\n",
       "    </tr>\n",
       "    <tr>\n",
       "      <th>283</th>\n",
       "      <td>65.0</td>\n",
       "      <td>0.0</td>\n",
       "      <td>1688</td>\n",
       "      <td>0.0</td>\n",
       "      <td>38.0</td>\n",
       "      <td>0.0</td>\n",
       "      <td>263358.03</td>\n",
       "      <td>1.1</td>\n",
       "      <td>138.0</td>\n",
       "      <td>1.0</td>\n",
       "      <td>1.0</td>\n",
       "    </tr>\n",
       "    <tr>\n",
       "      <th>284</th>\n",
       "      <td>50.0</td>\n",
       "      <td>1.0</td>\n",
       "      <td>54</td>\n",
       "      <td>0.0</td>\n",
       "      <td>40.0</td>\n",
       "      <td>0.0</td>\n",
       "      <td>279000.00</td>\n",
       "      <td>0.8</td>\n",
       "      <td>141.0</td>\n",
       "      <td>1.0</td>\n",
       "      <td>0.0</td>\n",
       "    </tr>\n",
       "    <tr>\n",
       "      <th>285</th>\n",
       "      <td>55.0</td>\n",
       "      <td>1.0</td>\n",
       "      <td>170</td>\n",
       "      <td>1.0</td>\n",
       "      <td>40.0</td>\n",
       "      <td>0.0</td>\n",
       "      <td>336000.00</td>\n",
       "      <td>1.2</td>\n",
       "      <td>135.0</td>\n",
       "      <td>1.0</td>\n",
       "      <td>0.0</td>\n",
       "    </tr>\n",
       "    <tr>\n",
       "      <th>286</th>\n",
       "      <td>60.0</td>\n",
       "      <td>0.0</td>\n",
       "      <td>253</td>\n",
       "      <td>0.0</td>\n",
       "      <td>NaN</td>\n",
       "      <td>0.0</td>\n",
       "      <td>279000.00</td>\n",
       "      <td>1.7</td>\n",
       "      <td>140.0</td>\n",
       "      <td>1.0</td>\n",
       "      <td>0.0</td>\n",
       "    </tr>\n",
       "    <tr>\n",
       "      <th>287</th>\n",
       "      <td>45.0</td>\n",
       "      <td>0.0</td>\n",
       "      <td>582</td>\n",
       "      <td>1.0</td>\n",
       "      <td>55.0</td>\n",
       "      <td>0.0</td>\n",
       "      <td>543000.00</td>\n",
       "      <td>1.0</td>\n",
       "      <td>132.0</td>\n",
       "      <td>0.0</td>\n",
       "      <td>0.0</td>\n",
       "    </tr>\n",
       "    <tr>\n",
       "      <th>288</th>\n",
       "      <td>65.0</td>\n",
       "      <td>0.0</td>\n",
       "      <td>892</td>\n",
       "      <td>1.0</td>\n",
       "      <td>35.0</td>\n",
       "      <td>0.0</td>\n",
       "      <td>263358.03</td>\n",
       "      <td>1.1</td>\n",
       "      <td>142.0</td>\n",
       "      <td>0.0</td>\n",
       "      <td>0.0</td>\n",
       "    </tr>\n",
       "    <tr>\n",
       "      <th>289</th>\n",
       "      <td>90.0</td>\n",
       "      <td>1.0</td>\n",
       "      <td>337</td>\n",
       "      <td>0.0</td>\n",
       "      <td>38.0</td>\n",
       "      <td>0.0</td>\n",
       "      <td>390000.00</td>\n",
       "      <td>0.9</td>\n",
       "      <td>144.0</td>\n",
       "      <td>0.0</td>\n",
       "      <td>0.0</td>\n",
       "    </tr>\n",
       "    <tr>\n",
       "      <th>290</th>\n",
       "      <td>45.0</td>\n",
       "      <td>0.0</td>\n",
       "      <td>615</td>\n",
       "      <td>1.0</td>\n",
       "      <td>55.0</td>\n",
       "      <td>0.0</td>\n",
       "      <td>222000.00</td>\n",
       "      <td>0.8</td>\n",
       "      <td>141.0</td>\n",
       "      <td>0.0</td>\n",
       "      <td>0.0</td>\n",
       "    </tr>\n",
       "    <tr>\n",
       "      <th>291</th>\n",
       "      <td>60.0</td>\n",
       "      <td>0.0</td>\n",
       "      <td>320</td>\n",
       "      <td>0.0</td>\n",
       "      <td>NaN</td>\n",
       "      <td>0.0</td>\n",
       "      <td>133000.00</td>\n",
       "      <td>1.4</td>\n",
       "      <td>139.0</td>\n",
       "      <td>1.0</td>\n",
       "      <td>0.0</td>\n",
       "    </tr>\n",
       "    <tr>\n",
       "      <th>292</th>\n",
       "      <td>52.0</td>\n",
       "      <td>0.0</td>\n",
       "      <td>190</td>\n",
       "      <td>1.0</td>\n",
       "      <td>38.0</td>\n",
       "      <td>0.0</td>\n",
       "      <td>382000.00</td>\n",
       "      <td>1.0</td>\n",
       "      <td>140.0</td>\n",
       "      <td>1.0</td>\n",
       "      <td>1.0</td>\n",
       "    </tr>\n",
       "    <tr>\n",
       "      <th>293</th>\n",
       "      <td>63.0</td>\n",
       "      <td>1.0</td>\n",
       "      <td>103</td>\n",
       "      <td>1.0</td>\n",
       "      <td>35.0</td>\n",
       "      <td>0.0</td>\n",
       "      <td>179000.00</td>\n",
       "      <td>0.9</td>\n",
       "      <td>136.0</td>\n",
       "      <td>1.0</td>\n",
       "      <td>1.0</td>\n",
       "    </tr>\n",
       "    <tr>\n",
       "      <th>294</th>\n",
       "      <td>62.0</td>\n",
       "      <td>0.0</td>\n",
       "      <td>61</td>\n",
       "      <td>1.0</td>\n",
       "      <td>38.0</td>\n",
       "      <td>1.0</td>\n",
       "      <td>155000.00</td>\n",
       "      <td>1.1</td>\n",
       "      <td>143.0</td>\n",
       "      <td>1.0</td>\n",
       "      <td>1.0</td>\n",
       "    </tr>\n",
       "    <tr>\n",
       "      <th>295</th>\n",
       "      <td>55.0</td>\n",
       "      <td>0.0</td>\n",
       "      <td>1820</td>\n",
       "      <td>0.0</td>\n",
       "      <td>NaN</td>\n",
       "      <td>0.0</td>\n",
       "      <td>270000.00</td>\n",
       "      <td>1.2</td>\n",
       "      <td>139.0</td>\n",
       "      <td>0.0</td>\n",
       "      <td>0.0</td>\n",
       "    </tr>\n",
       "    <tr>\n",
       "      <th>296</th>\n",
       "      <td>45.0</td>\n",
       "      <td>0.0</td>\n",
       "      <td>2060</td>\n",
       "      <td>1.0</td>\n",
       "      <td>60.0</td>\n",
       "      <td>0.0</td>\n",
       "      <td>742000.00</td>\n",
       "      <td>0.8</td>\n",
       "      <td>138.0</td>\n",
       "      <td>0.0</td>\n",
       "      <td>0.0</td>\n",
       "    </tr>\n",
       "    <tr>\n",
       "      <th>297</th>\n",
       "      <td>45.0</td>\n",
       "      <td>0.0</td>\n",
       "      <td>2413</td>\n",
       "      <td>0.0</td>\n",
       "      <td>38.0</td>\n",
       "      <td>0.0</td>\n",
       "      <td>140000.00</td>\n",
       "      <td>1.4</td>\n",
       "      <td>140.0</td>\n",
       "      <td>1.0</td>\n",
       "      <td>1.0</td>\n",
       "    </tr>\n",
       "    <tr>\n",
       "      <th>298</th>\n",
       "      <td>50.0</td>\n",
       "      <td>0.0</td>\n",
       "      <td>196</td>\n",
       "      <td>0.0</td>\n",
       "      <td>NaN</td>\n",
       "      <td>0.0</td>\n",
       "      <td>395000.00</td>\n",
       "      <td>1.6</td>\n",
       "      <td>136.0</td>\n",
       "      <td>1.0</td>\n",
       "      <td>1.0</td>\n",
       "    </tr>\n",
       "  </tbody>\n",
       "</table>\n",
       "</div>"
      ],
      "text/plain": [
       "      age  anaemia  creatinine_phosphokinase  diabetes  ejection_fraction  \\\n",
       "279  55.0      0.0                        84       1.0               38.0   \n",
       "280  70.0      0.0                      2695       1.0               40.0   \n",
       "281  70.0      0.0                       582       0.0               40.0   \n",
       "282  42.0      0.0                        64       0.0               30.0   \n",
       "283  65.0      0.0                      1688       0.0               38.0   \n",
       "284  50.0      1.0                        54       0.0               40.0   \n",
       "285  55.0      1.0                       170       1.0               40.0   \n",
       "286  60.0      0.0                       253       0.0                NaN   \n",
       "287  45.0      0.0                       582       1.0               55.0   \n",
       "288  65.0      0.0                       892       1.0               35.0   \n",
       "289  90.0      1.0                       337       0.0               38.0   \n",
       "290  45.0      0.0                       615       1.0               55.0   \n",
       "291  60.0      0.0                       320       0.0                NaN   \n",
       "292  52.0      0.0                       190       1.0               38.0   \n",
       "293  63.0      1.0                       103       1.0               35.0   \n",
       "294  62.0      0.0                        61       1.0               38.0   \n",
       "295  55.0      0.0                      1820       0.0                NaN   \n",
       "296  45.0      0.0                      2060       1.0               60.0   \n",
       "297  45.0      0.0                      2413       0.0               38.0   \n",
       "298  50.0      0.0                       196       0.0                NaN   \n",
       "\n",
       "     high_blood_pressure  platelets  serum_creatinine  serum_sodium  sex  \\\n",
       "279                  0.0  451000.00               1.3         136.0  0.0   \n",
       "280                  0.0  241000.00               1.0         137.0  1.0   \n",
       "281                  0.0   51000.00               2.7         136.0  1.0   \n",
       "282                  0.0  215000.00               3.8         128.0  1.0   \n",
       "283                  0.0  263358.03               1.1         138.0  1.0   \n",
       "284                  0.0  279000.00               0.8         141.0  1.0   \n",
       "285                  0.0  336000.00               1.2         135.0  1.0   \n",
       "286                  0.0  279000.00               1.7         140.0  1.0   \n",
       "287                  0.0  543000.00               1.0         132.0  0.0   \n",
       "288                  0.0  263358.03               1.1         142.0  0.0   \n",
       "289                  0.0  390000.00               0.9         144.0  0.0   \n",
       "290                  0.0  222000.00               0.8         141.0  0.0   \n",
       "291                  0.0  133000.00               1.4         139.0  1.0   \n",
       "292                  0.0  382000.00               1.0         140.0  1.0   \n",
       "293                  0.0  179000.00               0.9         136.0  1.0   \n",
       "294                  1.0  155000.00               1.1         143.0  1.0   \n",
       "295                  0.0  270000.00               1.2         139.0  0.0   \n",
       "296                  0.0  742000.00               0.8         138.0  0.0   \n",
       "297                  0.0  140000.00               1.4         140.0  1.0   \n",
       "298                  0.0  395000.00               1.6         136.0  1.0   \n",
       "\n",
       "     smoking  \n",
       "279      0.0  \n",
       "280      0.0  \n",
       "281      1.0  \n",
       "282      1.0  \n",
       "283      1.0  \n",
       "284      0.0  \n",
       "285      0.0  \n",
       "286      0.0  \n",
       "287      0.0  \n",
       "288      0.0  \n",
       "289      0.0  \n",
       "290      0.0  \n",
       "291      0.0  \n",
       "292      1.0  \n",
       "293      1.0  \n",
       "294      1.0  \n",
       "295      0.0  \n",
       "296      0.0  \n",
       "297      1.0  \n",
       "298      1.0  "
      ]
     },
     "execution_count": 8,
     "metadata": {},
     "output_type": "execute_result"
    }
   ],
   "source": [
    "df.tail(20)"
   ]
  },
  {
   "cell_type": "code",
   "execution_count": 9,
   "id": "81c1c14f-9124-431c-911a-3356c399cd99",
   "metadata": {},
   "outputs": [
    {
     "data": {
      "text/plain": [
       "Text(0.5, 1.0, 'age')"
      ]
     },
     "execution_count": 9,
     "metadata": {},
     "output_type": "execute_result"
    },
    {
     "data": {
      "image/png": "[encoded data removed]",
      "text/plain": [
       "<Figure size 1152x432 with 1 Axes>"
      ]
     },
     "metadata": {
      "needs_background": "light"
     },
     "output_type": "display_data"
    }
   ],
   "source": [
    "plt.figure(figsize = (16,6))\n",
    "plt.subplot(121)\n",
    "sns.histplot(df['age'])\n",
    "plt.title('age')"
   ]
  },
  {
   "cell_type": "code",
   "execution_count": 10,
   "id": "bc882b49-9d3c-463e-b777-5bab92a5ca18",
   "metadata": {},
   "outputs": [],
   "source": [
    "## As the values of age are only missing in the start of the dataset, we can use end of distribution using max() value.\n",
    "df['age'].fillna(df['age'].max(), inplace=True)"
   ]
  },
  {
   "cell_type": "code",
   "execution_count": 11,
   "id": "4a28cb05-e387-4742-b123-bd6afb1402fc",
   "metadata": {},
   "outputs": [
    {
     "data": {
      "text/plain": [
       "age                         0.000000\n",
       "anaemia                     6.020067\n",
       "creatinine_phosphokinase    0.000000\n",
       "diabetes                    2.341137\n",
       "ejection_fraction           4.013378\n",
       "high_blood_pressure         2.675585\n",
       "platelets                   0.000000\n",
       "serum_creatinine            0.334448\n",
       "serum_sodium                3.678930\n",
       "sex                         1.672241\n",
       "smoking                     3.678930\n",
       "dtype: float64"
      ]
     },
     "execution_count": 11,
     "metadata": {},
     "output_type": "execute_result"
    }
   ],
   "source": [
    "df.isnull().mean()*100"
   ]
  },
  {
   "cell_type": "code",
   "execution_count": 12,
   "id": "7434769a-42d4-42fc-b903-c4b33b264fc2",
   "metadata": {},
   "outputs": [
    {
     "data": {
      "text/plain": [
       "Text(0.5, 1.0, 'New Age')"
      ]
     },
     "execution_count": 12,
     "metadata": {},
     "output_type": "execute_result"
    },
    {
     "data": {
      "image/png": "[encoded data removed]",
      "text/plain": [
       "<Figure size 936x288 with 2 Axes>"
      ]
     },
     "metadata": {
      "needs_background": "light"
     },
     "output_type": "display_data"
    }
   ],
   "source": [
    "plt.figure(figsize = (13,4))\n",
    "plt.subplot(121)\n",
    "sns.histplot(dff['age'])\n",
    "plt.title('Old Age')\n",
    "\n",
    "plt.subplot(122)\n",
    "sns.histplot(df['age'])\n",
    "plt.title('New Age')\n",
    "\n",
    "## No change in the distribution."
   ]
  },
  {
   "cell_type": "code",
   "execution_count": 13,
   "id": "b6d922cd-3b4f-45ee-b82d-a689aa41f382",
   "metadata": {},
   "outputs": [
    {
     "data": {
      "text/plain": [
       "['diabetes', 'high_blood_pressure', 'serum_creatinine', 'sex']"
      ]
     },
     "execution_count": 13,
     "metadata": {},
     "output_type": "execute_result"
    }
   ],
   "source": [
    "l = [col for col in df.columns if df[col].isnull().mean() <0.03\n",
    "     and df[col].isnull().mean()>0]\n",
    "l"
   ]
  },
  {
   "cell_type": "code",
   "execution_count": 14,
   "id": "92f58b84-dd92-4d83-a785-58ab0cac7c85",
   "metadata": {},
   "outputs": [],
   "source": [
    "df.dropna(subset = l[2], inplace = True)"
   ]
  },
  {
   "cell_type": "code",
   "execution_count": 15,
   "id": "296ab909-612c-4e6f-b372-d186498f376d",
   "metadata": {},
   "outputs": [],
   "source": [
    "df.dropna(subset = l[3], inplace = True)"
   ]
  },
  {
   "cell_type": "code",
   "execution_count": 16,
   "id": "fe162d26-b4b3-42eb-88c8-a96ed4181fde",
   "metadata": {},
   "outputs": [
    {
     "data": {
      "text/plain": [
       "Text(0.5, 1.0, 'serum_creatinine')"
      ]
     },
     "execution_count": 16,
     "metadata": {},
     "output_type": "execute_result"
    },
    {
     "data": {
      "image/png": "[encoded data removed]",
      "text/plain": [
       "<Figure size 936x288 with 1 Axes>"
      ]
     },
     "metadata": {
      "needs_background": "light"
     },
     "output_type": "display_data"
    }
   ],
   "source": [
    "## We will need to change the distribution by normalisation method later.\n",
    "plt.figure(figsize = (13,4))\n",
    "plt.subplot(122)\n",
    "sns.histplot(df['serum_creatinine'])\n",
    "plt.title('serum_creatinine')"
   ]
  },
  {
   "cell_type": "code",
   "execution_count": 17,
   "id": "ac1e7db2-160d-4113-a397-aca88d05009f",
   "metadata": {},
   "outputs": [
    {
     "data": {
      "text/plain": [
       "age                         0.000000\n",
       "anaemia                     6.143345\n",
       "creatinine_phosphokinase    0.000000\n",
       "diabetes                    2.389078\n",
       "ejection_fraction           4.095563\n",
       "high_blood_pressure         2.730375\n",
       "platelets                   0.000000\n",
       "serum_creatinine            0.000000\n",
       "serum_sodium                2.389078\n",
       "sex                         0.000000\n",
       "smoking                     3.071672\n",
       "dtype: float64"
      ]
     },
     "execution_count": 17,
     "metadata": {},
     "output_type": "execute_result"
    }
   ],
   "source": [
    "df.isnull().mean()*100"
   ]
  },
  {
   "cell_type": "code",
   "execution_count": 18,
   "id": "6ccb21ac-0b06-44e0-acf2-217713c3457e",
   "metadata": {},
   "outputs": [],
   "source": [
    "arbitrary_values = {\"diabetes\":2}  # Define arbitrary values for each column\n",
    "\n",
    "# Impute missing values with arbitrary values\n",
    "for column, value in arbitrary_values.items():\n",
    "    df[column].fillna(value, inplace=True)\n",
    "    "
   ]
  },
  {
   "cell_type": "code",
   "execution_count": 19,
   "id": "1c39aafc-4dda-454f-b4f5-b0bda6958119",
   "metadata": {},
   "outputs": [
    {
     "data": {
      "text/plain": [
       "Text(0.5, 1.0, 'diabetes')"
      ]
     },
     "execution_count": 19,
     "metadata": {},
     "output_type": "execute_result"
    },
    {
     "data": {
      "image/png": "[encoded data removed]",
      "text/plain": [
       "<Figure size 936x288 with 1 Axes>"
      ]
     },
     "metadata": {
      "needs_background": "light"
     },
     "output_type": "display_data"
    }
   ],
   "source": [
    "## We will need to change the distribution by normalisation method later.\n",
    "plt.figure(figsize = (13,4))\n",
    "plt.subplot(122)\n",
    "sns.histplot(df['diabetes'])\n",
    "plt.title('diabetes')"
   ]
  },
  {
   "cell_type": "code",
   "execution_count": 20,
   "id": "943cb077-6588-44c5-b873-fd0c1786f7dc",
   "metadata": {},
   "outputs": [
    {
     "data": {
      "text/plain": [
       "age                         0.000000\n",
       "anaemia                     6.143345\n",
       "creatinine_phosphokinase    0.000000\n",
       "diabetes                    0.000000\n",
       "ejection_fraction           4.095563\n",
       "high_blood_pressure         2.730375\n",
       "platelets                   0.000000\n",
       "serum_creatinine            0.000000\n",
       "serum_sodium                2.389078\n",
       "sex                         0.000000\n",
       "smoking                     3.071672\n",
       "dtype: float64"
      ]
     },
     "execution_count": 20,
     "metadata": {},
     "output_type": "execute_result"
    }
   ],
   "source": [
    "df.isnull().mean()*100"
   ]
  },
  {
   "cell_type": "code",
   "execution_count": 21,
   "id": "976f36c0-8604-4bc2-91cf-84de8c73f685",
   "metadata": {},
   "outputs": [],
   "source": [
    "def random_sampling_imputation(column):          \n",
    "    non_missing_values = df[column].dropna()        \n",
    "    random_samples = np.random.choice(non_missing_values, size=df[column].isnull().sum(), replace=True)\n",
    "    df.loc[df[column].isnull(),column] = random_samples"
   ]
  },
  {
   "cell_type": "code",
   "execution_count": 22,
   "id": "99076d66-9511-4c4d-832c-5dd2acffcb03",
   "metadata": {},
   "outputs": [
    {
     "data": {
      "text/plain": [
       "Text(0.5, 1.0, 'high_blood_pressure')"
      ]
     },
     "execution_count": 22,
     "metadata": {},
     "output_type": "execute_result"
    },
    {
     "data": {
      "image/png": "[encoded data removed]",
      "text/plain": [
       "<Figure size 936x288 with 1 Axes>"
      ]
     },
     "metadata": {
      "needs_background": "light"
     },
     "output_type": "display_data"
    }
   ],
   "source": [
    "plt.figure(figsize = (13,4))\n",
    "plt.subplot(122)\n",
    "sns.histplot(df['high_blood_pressure'])\n",
    "plt.title('high_blood_pressure')"
   ]
  },
  {
   "cell_type": "code",
   "execution_count": 23,
   "id": "5e4bf214-2cd5-4c08-a6cc-b36d606e5e1a",
   "metadata": {},
   "outputs": [],
   "source": [
    "random_sampling_imputation(\"high_blood_pressure\")"
   ]
  },
  {
   "cell_type": "code",
   "execution_count": 24,
   "id": "1893e472-f8f1-4745-9468-1f60964a81a6",
   "metadata": {},
   "outputs": [
    {
     "data": {
      "text/plain": [
       "age                         0.000000\n",
       "anaemia                     6.143345\n",
       "creatinine_phosphokinase    0.000000\n",
       "diabetes                    0.000000\n",
       "ejection_fraction           4.095563\n",
       "high_blood_pressure         0.000000\n",
       "platelets                   0.000000\n",
       "serum_creatinine            0.000000\n",
       "serum_sodium                2.389078\n",
       "sex                         0.000000\n",
       "smoking                     3.071672\n",
       "dtype: float64"
      ]
     },
     "execution_count": 24,
     "metadata": {},
     "output_type": "execute_result"
    }
   ],
   "source": [
    "df.isnull().mean()*100"
   ]
  },
  {
   "cell_type": "code",
   "execution_count": 25,
   "id": "86eb02e3-6b95-4fc7-9220-7b6ca635b0bf",
   "metadata": {},
   "outputs": [],
   "source": [
    "random_sampling_imputation(\"serum_sodium\")"
   ]
  },
  {
   "cell_type": "code",
   "execution_count": 26,
   "id": "c91cd569-786f-48f5-a225-9d87625cfa62",
   "metadata": {},
   "outputs": [
    {
     "data": {
      "text/plain": [
       "age                         0.000000\n",
       "anaemia                     6.143345\n",
       "creatinine_phosphokinase    0.000000\n",
       "diabetes                    0.000000\n",
       "ejection_fraction           4.095563\n",
       "high_blood_pressure         0.000000\n",
       "platelets                   0.000000\n",
       "serum_creatinine            0.000000\n",
       "serum_sodium                0.000000\n",
       "sex                         0.000000\n",
       "smoking                     3.071672\n",
       "dtype: float64"
      ]
     },
     "execution_count": 26,
     "metadata": {},
     "output_type": "execute_result"
    }
   ],
   "source": [
    "df.isnull().mean()*100"
   ]
  },
  {
   "cell_type": "code",
   "execution_count": 27,
   "id": "b7039102-e196-4ea5-81d3-ab7494bc3aa4",
   "metadata": {},
   "outputs": [
    {
     "data": {
      "text/plain": [
       "Text(0.5, 1.0, 'smoking')"
      ]
     },
     "execution_count": 27,
     "metadata": {},
     "output_type": "execute_result"
    },
    {
     "data": {
      "image/png": "[encoded data removed]",
      "text/plain": [
       "<Figure size 936x288 with 1 Axes>"
      ]
     },
     "metadata": {
      "needs_background": "light"
     },
     "output_type": "display_data"
    }
   ],
   "source": [
    "plt.figure(figsize = (13,4))\n",
    "plt.subplot(122)\n",
    "sns.histplot(df['smoking'])\n",
    "plt.title('smoking')"
   ]
  },
  {
   "cell_type": "code",
   "execution_count": 28,
   "id": "7b29e572-d807-4de6-8bde-ba782dd5a048",
   "metadata": {},
   "outputs": [],
   "source": [
    "# We can try this\n",
    "# random_sampling_imputation(\"smoking\")"
   ]
  },
  {
   "cell_type": "code",
   "execution_count": 29,
   "id": "c470122a-a973-461b-ad25-30687fdc5e6f",
   "metadata": {},
   "outputs": [],
   "source": [
    "##  Second Approach for the same is arbritrary value\n",
    "arbitrary_values = {\"smoking\":2}  # Define arbitrary values for each column\n",
    "\n",
    "# Impute missing values with arbitrary values\n",
    "for column, value in arbitrary_values.items():\n",
    "    df[column].fillna(value, inplace=True)"
   ]
  },
  {
   "cell_type": "code",
   "execution_count": 30,
   "id": "f9e093ca-3bcc-4439-af2a-72b14c3aaeae",
   "metadata": {},
   "outputs": [
    {
     "data": {
      "text/plain": [
       "age                         0.000000\n",
       "anaemia                     6.143345\n",
       "creatinine_phosphokinase    0.000000\n",
       "diabetes                    0.000000\n",
       "ejection_fraction           4.095563\n",
       "high_blood_pressure         0.000000\n",
       "platelets                   0.000000\n",
       "serum_creatinine            0.000000\n",
       "serum_sodium                0.000000\n",
       "sex                         0.000000\n",
       "smoking                     0.000000\n",
       "dtype: float64"
      ]
     },
     "execution_count": 30,
     "metadata": {},
     "output_type": "execute_result"
    }
   ],
   "source": [
    "df.isnull().mean()*100"
   ]
  },
  {
   "cell_type": "code",
   "execution_count": 31,
   "id": "c6db9836-fb88-444a-a890-c1353d2a0ec1",
   "metadata": {},
   "outputs": [
    {
     "data": {
      "text/plain": [
       "Text(0.5, 1.0, 'ejection_fraction')"
      ]
     },
     "execution_count": 31,
     "metadata": {},
     "output_type": "execute_result"
    },
    {
     "data": {
      "image/png": "[encoded data removed]",
      "text/plain": [
       "<Figure size 936x288 with 1 Axes>"
      ]
     },
     "metadata": {
      "needs_background": "light"
     },
     "output_type": "display_data"
    }
   ],
   "source": [
    "plt.figure(figsize = (13,4))\n",
    "plt.subplot(122)\n",
    "sns.histplot(df['ejection_fraction'])\n",
    "plt.title('ejection_fraction')"
   ]
  },
  {
   "cell_type": "code",
   "execution_count": 32,
   "id": "291b46c3-8475-462e-9112-1feee7a57c64",
   "metadata": {},
   "outputs": [],
   "source": [
    "## Normally Distruibuted, ideal method is Mean.\n",
    "df['ejection_fraction'].fillna(df['ejection_fraction'].mean(),inplace=True)"
   ]
  },
  {
   "cell_type": "code",
   "execution_count": 33,
   "id": "4d9e0c40-9e22-421f-96cb-329432f36690",
   "metadata": {},
   "outputs": [
    {
     "data": {
      "text/plain": [
       "age                         0.000000\n",
       "anaemia                     6.143345\n",
       "creatinine_phosphokinase    0.000000\n",
       "diabetes                    0.000000\n",
       "ejection_fraction           0.000000\n",
       "high_blood_pressure         0.000000\n",
       "platelets                   0.000000\n",
       "serum_creatinine            0.000000\n",
       "serum_sodium                0.000000\n",
       "sex                         0.000000\n",
       "smoking                     0.000000\n",
       "dtype: float64"
      ]
     },
     "execution_count": 33,
     "metadata": {},
     "output_type": "execute_result"
    }
   ],
   "source": [
    "df.isnull().mean()*100"
   ]
  },
  {
   "cell_type": "code",
   "execution_count": 34,
   "id": "45cb72d6-17c7-45e4-92aa-0eac75598891",
   "metadata": {},
   "outputs": [
    {
     "data": {
      "text/plain": [
       "Text(0.5, 1.0, 'anaemia')"
      ]
     },
     "execution_count": 34,
     "metadata": {},
     "output_type": "execute_result"
    },
    {
     "data": {
      "image/png": "[encoded data removed]",
      "text/plain": [
       "<Figure size 936x288 with 1 Axes>"
      ]
     },
     "metadata": {
      "needs_background": "light"
     },
     "output_type": "display_data"
    }
   ],
   "source": [
    "plt.figure(figsize = (13,4))\n",
    "plt.subplot(122)\n",
    "sns.histplot(df['anaemia'])\n",
    "plt.title('anaemia')"
   ]
  },
  {
   "cell_type": "code",
   "execution_count": 35,
   "id": "d7f2d373-f47c-415d-886b-b9e36de7dd20",
   "metadata": {},
   "outputs": [],
   "source": [
    "random_sampling_imputation(\"anaemia\")"
   ]
  },
  {
   "cell_type": "code",
   "execution_count": 36,
   "id": "c4183886-1c81-46da-9ba8-77e412b2aa75",
   "metadata": {},
   "outputs": [
    {
     "data": {
      "text/plain": [
       "age                         0.0\n",
       "anaemia                     0.0\n",
       "creatinine_phosphokinase    0.0\n",
       "diabetes                    0.0\n",
       "ejection_fraction           0.0\n",
       "high_blood_pressure         0.0\n",
       "platelets                   0.0\n",
       "serum_creatinine            0.0\n",
       "serum_sodium                0.0\n",
       "sex                         0.0\n",
       "smoking                     0.0\n",
       "dtype: float64"
      ]
     },
     "execution_count": 36,
     "metadata": {},
     "output_type": "execute_result"
    }
   ],
   "source": [
    "df.isnull().mean()*100"
   ]
  },
  {
   "cell_type": "code",
   "execution_count": 37,
   "id": "a94125ec-1530-43b8-b799-83d8d909c943",
   "metadata": {},
   "outputs": [
    {
     "name": "stderr",
     "output_type": "stream",
     "text": [
      "/Users/sid24082/opt/anaconda3/lib/python3.9/site-packages/seaborn/distributions.py:2619: FutureWarning: `distplot` is a deprecated function and will be removed in a future version. Please adapt your code to use either `displot` (a figure-level function with similar flexibility) or `histplot` (an axes-level function for histograms).\n",
      "  warnings.warn(msg, FutureWarning)\n"
     ]
    },
    {
     "data": {
      "text/plain": [
       "Text(0.5, 1.0, 'anaemia')"
      ]
     },
     "execution_count": 37,
     "metadata": {},
     "output_type": "execute_result"
    },
    {
     "data": {
      "image/png": "[encoded data removed]",
      "text/plain": [
       "<Figure size 936x288 with 1 Axes>"
      ]
     },
     "metadata": {
      "needs_background": "light"
     },
     "output_type": "display_data"
    }
   ],
   "source": [
    "plt.figure(figsize = (13,4))\n",
    "plt.subplot(122)\n",
    "sns.distplot(df['anaemia'])\n",
    "plt.title('anaemia')"
   ]
  },
  {
   "cell_type": "code",
   "execution_count": 38,
   "id": "7b5dd5bb-022d-4a90-803f-ebafeb7cbe7f",
   "metadata": {},
   "outputs": [
    {
     "data": {
      "text/plain": [
       "Text(0.5, 1.0, 'ejection_fraction')"
      ]
     },
     "execution_count": 38,
     "metadata": {},
     "output_type": "execute_result"
    },
    {
     "data": {
      "image/png": "[encoded data removed]",
      "text/plain": [
       "<Figure size 936x288 with 1 Axes>"
      ]
     },
     "metadata": {
      "needs_background": "light"
     },
     "output_type": "display_data"
    }
   ],
   "source": [
    "plt.figure(figsize = (13,4))\n",
    "plt.subplot(122)\n",
    "sns.histplot(df['ejection_fraction'])\n",
    "plt.title('ejection_fraction')"
   ]
  },
  {
   "cell_type": "code",
   "execution_count": 40,
   "id": "ba92446d-826a-4cff-bfb4-fac2e09862d8",
   "metadata": {},
   "outputs": [
    {
     "name": "stdout",
     "output_type": "stream",
     "text": [
      "<class 'pandas.core.frame.DataFrame'>\n",
      "Int64Index: 293 entries, 0 to 298\n",
      "Data columns (total 11 columns):\n",
      " #   Column                    Non-Null Count  Dtype  \n",
      "---  ------                    --------------  -----  \n",
      " 0   age                       293 non-null    float64\n",
      " 1   anaemia                   293 non-null    float64\n",
      " 2   creatinine_phosphokinase  293 non-null    int64  \n",
      " 3   diabetes                  293 non-null    float64\n",
      " 4   ejection_fraction         293 non-null    float64\n",
      " 5   high_blood_pressure       293 non-null    float64\n",
      " 6   platelets                 293 non-null    float64\n",
      " 7   serum_creatinine          293 non-null    float64\n",
      " 8   serum_sodium              293 non-null    float64\n",
      " 9   sex                       293 non-null    float64\n",
      " 10  smoking                   293 non-null    float64\n",
      "dtypes: float64(10), int64(1)\n",
      "memory usage: 27.5 KB\n"
     ]
    }
   ],
   "source": [
    "df.info()"
   ]
  },
  {
   "cell_type": "code",
   "execution_count": 43,
   "id": "3dca3a35-7b83-422e-8950-d102ad0bd39a",
   "metadata": {},
   "outputs": [
    {
     "data": {
      "text/plain": [
       "Text(0.5, 1.0, 'high_blood_pressure')"
      ]
     },
     "execution_count": 43,
     "metadata": {},
     "output_type": "execute_result"
    },
    {
     "data": {
      "image/png": "[encoded data removed]",
      "text/plain": [
       "<Figure size 936x288 with 1 Axes>"
      ]
     },
     "metadata": {
      "needs_background": "light"
     },
     "output_type": "display_data"
    }
   ],
   "source": [
    "plt.figure(figsize = (13,4))\n",
    "plt.subplot(122)\n",
    "sns.histplot(df['high_blood_pressure'])\n",
    "plt.title('high_blood_pressure')"
   ]
  },
  {
   "cell_type": "code",
   "execution_count": 44,
   "id": "6287a3fb-f971-46e3-9a8a-bfbc695088b2",
   "metadata": {},
   "outputs": [
    {
     "data": {
      "text/plain": [
       "Text(0.5, 1.0, 'platelets')"
      ]
     },
     "execution_count": 44,
     "metadata": {},
     "output_type": "execute_result"
    },
    {
     "data": {
      "image/png": "[encoded data removed]",
      "text/plain": [
       "<Figure size 936x288 with 1 Axes>"
      ]
     },
     "metadata": {
      "needs_background": "light"
     },
     "output_type": "display_data"
    }
   ],
   "source": [
    "plt.figure(figsize = (13,4))\n",
    "plt.subplot(122)\n",
    "sns.histplot(df['platelets'])\n",
    "plt.title('platelets')"
   ]
  },
  {
   "cell_type": "code",
   "execution_count": 45,
   "id": "c19a87ce-3629-4f01-985e-005d02e9ed45",
   "metadata": {},
   "outputs": [
    {
     "data": {
      "text/plain": [
       "Text(0.5, 1.0, 'serum_creatinine')"
      ]
     },
     "execution_count": 45,
     "metadata": {},
     "output_type": "execute_result"
    },
    {
     "data": {
      "image/png": "[encoded data removed]",
      "text/plain": [
       "<Figure size 936x288 with 1 Axes>"
      ]
     },
     "metadata": {
      "needs_background": "light"
     },
     "output_type": "display_data"
    }
   ],
   "source": [
    "\n",
    "plt.figure(figsize = (13,4))\n",
    "plt.subplot(122)\n",
    "sns.histplot(df['serum_creatinine'])\n",
    "plt.title('serum_creatinine')\n"
   ]
  },
  {
   "cell_type": "code",
   "execution_count": 46,
   "id": "0f9e0bb3-66a7-40c2-adc1-8eeddd0b1c94",
   "metadata": {},
   "outputs": [
    {
     "data": {
      "text/plain": [
       "Text(0.5, 1.0, 'serum_sodium')"
      ]
     },
     "execution_count": 46,
     "metadata": {},
     "output_type": "execute_result"
    },
    {
     "data": {
      "image/png": "[encoded data removed]",
      "text/plain": [
       "<Figure size 936x288 with 1 Axes>"
      ]
     },
     "metadata": {
      "needs_background": "light"
     },
     "output_type": "display_data"
    }
   ],
   "source": [
    "\n",
    "\n",
    "plt.figure(figsize = (13,4))\n",
    "plt.subplot(122)\n",
    "sns.histplot(df['serum_sodium'])\n",
    "plt.title('serum_sodium')\n"
   ]
  },
  {
   "cell_type": "code",
   "execution_count": 47,
   "id": "cd788189-4576-426d-8bbb-52633a3c5e34",
   "metadata": {},
   "outputs": [
    {
     "data": {
      "text/plain": [
       "Text(0.5, 1.0, 'sex')"
      ]
     },
     "execution_count": 47,
     "metadata": {},
     "output_type": "execute_result"
    },
    {
     "data": {
      "image/png": "[encoded data removed]",
      "text/plain": [
       "<Figure size 936x288 with 1 Axes>"
      ]
     },
     "metadata": {
      "needs_background": "light"
     },
     "output_type": "display_data"
    }
   ],
   "source": [
    "\n",
    "\n",
    "plt.figure(figsize = (13,4))\n",
    "plt.subplot(122)\n",
    "sns.histplot(df['sex'])\n",
    "plt.title('sex')\n"
   ]
  },
  {
   "cell_type": "code",
   "execution_count": 48,
   "id": "f3acb28c-157c-4b1b-b987-15df514bf421",
   "metadata": {},
   "outputs": [
    {
     "data": {
      "text/plain": [
       "Text(0.5, 1.0, 'smoking')"
      ]
     },
     "execution_count": 48,
     "metadata": {},
     "output_type": "execute_result"
    },
    {
     "data": {
      "image/png": "[encoded data removed]",
      "text/plain": [
       "<Figure size 936x288 with 1 Axes>"
      ]
     },
     "metadata": {
      "needs_background": "light"
     },
     "output_type": "display_data"
    }
   ],
   "source": [
    "\n",
    "\n",
    "plt.figure(figsize = (13,4))\n",
    "plt.subplot(122)\n",
    "sns.histplot(df['smoking'])\n",
    "plt.title('smoking')\n"
   ]
  },
  {
   "cell_type": "code",
   "execution_count": null,
   "id": "d6408f5d-d2ac-4c6c-8dc8-6f77798cf5a3",
   "metadata": {},
   "outputs": [],
   "source": []
  }
 ],
 "metadata": {
  "kernelspec": {
   "display_name": "Python 3 (ipykernel)",
   "language": "python",
   "name": "python3"
  },
  "language_info": {
   "codemirror_mode": {
    "name": "ipython",
    "version": 3
   },
   "file_extension": ".py",
   "mimetype": "text/x-python",
   "name": "python",
   "nbconvert_exporter": "python",
   "pygments_lexer": "ipython3",
   "version": "3.9.12"
  }
 },
 "nbformat": 4,
 "nbformat_minor": 5
}
