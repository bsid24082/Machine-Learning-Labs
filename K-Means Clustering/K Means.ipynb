{
 "cells": [
  {
   "cell_type": "code",
   "execution_count": 1,
   "id": "df0f23cc-4499-49c8-a783-b2ee81114cfc",
   "metadata": {},
   "outputs": [
    {
     "name": "stderr",
     "output_type": "stream",
     "text": [
      "C:\\Users\\PRAMILA\\AppData\\Local\\Temp\\ipykernel_16912\\936535312.py:2: DeprecationWarning: \n",
      "Pyarrow will become a required dependency of pandas in the next major release of pandas (pandas 3.0),\n",
      "(to allow more performant data types, such as the Arrow string type, and better interoperability with other libraries)\n",
      "but was not found to be installed on your system.\n",
      "If this would cause problems for you,\n",
      "please provide us feedback at https://github.com/pandas-dev/pandas/issues/54466\n",
      "        \n",
      "  import pandas as pd\n"
     ]
    }
   ],
   "source": [
    "from sklearn.cluster import KMeans\n",
    "import pandas as pd\n",
    "from sklearn.preprocessing import MinMaxScaler\n",
    "from sklearn.preprocessing import StandardScaler\n",
    "from matplotlib import pyplot as plt\n",
    "from sklearn.linear_model import LogisticRegression\n",
    "from sklearn.metrics import accuracy_score\n",
    "from sklearn.decomposition import PCA\n",
    "%matplotlib inline"
   ]
  },
  {
   "cell_type": "code",
   "execution_count": 2,
   "id": "ce329b67-0c62-4369-9f94-065fe78b4605",
   "metadata": {},
   "outputs": [
    {
     "data": {
      "text/html": [
       "<div>\n",
       "<style scoped>\n",
       "    .dataframe tbody tr th:only-of-type {\n",
       "        vertical-align: middle;\n",
       "    }\n",
       "\n",
       "    .dataframe tbody tr th {\n",
       "        vertical-align: top;\n",
       "    }\n",
       "\n",
       "    .dataframe thead th {\n",
       "        text-align: right;\n",
       "    }\n",
       "</style>\n",
       "<table border=\"1\" class=\"dataframe\">\n",
       "  <thead>\n",
       "    <tr style=\"text-align: right;\">\n",
       "      <th></th>\n",
       "      <th>Name</th>\n",
       "      <th>Age</th>\n",
       "      <th>Income($)</th>\n",
       "    </tr>\n",
       "  </thead>\n",
       "  <tbody>\n",
       "    <tr>\n",
       "      <th>0</th>\n",
       "      <td>Rob</td>\n",
       "      <td>27</td>\n",
       "      <td>70000</td>\n",
       "    </tr>\n",
       "    <tr>\n",
       "      <th>1</th>\n",
       "      <td>Michael</td>\n",
       "      <td>29</td>\n",
       "      <td>90000</td>\n",
       "    </tr>\n",
       "    <tr>\n",
       "      <th>2</th>\n",
       "      <td>Mohan</td>\n",
       "      <td>29</td>\n",
       "      <td>61000</td>\n",
       "    </tr>\n",
       "    <tr>\n",
       "      <th>3</th>\n",
       "      <td>Ismail</td>\n",
       "      <td>28</td>\n",
       "      <td>60000</td>\n",
       "    </tr>\n",
       "    <tr>\n",
       "      <th>4</th>\n",
       "      <td>Kory</td>\n",
       "      <td>42</td>\n",
       "      <td>150000</td>\n",
       "    </tr>\n",
       "  </tbody>\n",
       "</table>\n",
       "</div>"
      ],
      "text/plain": [
       "      Name  Age  Income($)\n",
       "0      Rob   27      70000\n",
       "1  Michael   29      90000\n",
       "2    Mohan   29      61000\n",
       "3   Ismail   28      60000\n",
       "4     Kory   42     150000"
      ]
     },
     "execution_count": 2,
     "metadata": {},
     "output_type": "execute_result"
    }
   ],
   "source": [
    "df = pd.read_csv(\"income.csv\")\n",
    "df.head()"
   ]
  },
  {
   "cell_type": "code",
   "execution_count": 3,
   "id": "c24e7dec-b598-495c-8b96-d7c4bf7ce7db",
   "metadata": {},
   "outputs": [
    {
     "data": {
      "text/plain": [
       "Text(0, 0.5, 'Income($)')"
      ]
     },
     "execution_count": 3,
     "metadata": {},
     "output_type": "execute_result"
    },
    {
     "data": {
      "image/png": "[encoded data removed]",
      "text/plain": [
       "<Figure size 640x480 with 1 Axes>"
      ]
     },
     "metadata": {},
     "output_type": "display_data"
    }
   ],
   "source": [
    "plt.scatter(df.Age,df['Income($)'])\n",
    "plt.xlabel('Age')\n",
    "plt.ylabel('Income($)')"
   ]
  },
  {
   "cell_type": "code",
   "execution_count": 4,
   "id": "85cd71e9-4880-4660-8f74-dad4fcd64e9f",
   "metadata": {},
   "outputs": [
    {
     "data": {
      "text/plain": [
       "array([2, 2, 1, 1, 0, 0, 0, 0, 0, 0, 0, 1, 1, 1, 1, 1, 1, 1, 1, 2, 2, 1])"
      ]
     },
     "execution_count": 4,
     "metadata": {},
     "output_type": "execute_result"
    }
   ],
   "source": [
    "km = KMeans(n_clusters=3)\n",
    "y_predicted = km.fit_predict(df[['Age','Income($)']])\n",
    "y_predicted"
   ]
  },
  {
   "cell_type": "code",
   "execution_count": 5,
   "id": "3380f768-f884-4ff4-b973-aba8e71a997b",
   "metadata": {},
   "outputs": [
    {
     "data": {
      "text/html": [
       "<div>\n",
       "<style scoped>\n",
       "    .dataframe tbody tr th:only-of-type {\n",
       "        vertical-align: middle;\n",
       "    }\n",
       "\n",
       "    .dataframe tbody tr th {\n",
       "        vertical-align: top;\n",
       "    }\n",
       "\n",
       "    .dataframe thead th {\n",
       "        text-align: right;\n",
       "    }\n",
       "</style>\n",
       "<table border=\"1\" class=\"dataframe\">\n",
       "  <thead>\n",
       "    <tr style=\"text-align: right;\">\n",
       "      <th></th>\n",
       "      <th>Name</th>\n",
       "      <th>Age</th>\n",
       "      <th>Income($)</th>\n",
       "      <th>cluster</th>\n",
       "    </tr>\n",
       "  </thead>\n",
       "  <tbody>\n",
       "    <tr>\n",
       "      <th>0</th>\n",
       "      <td>Rob</td>\n",
       "      <td>27</td>\n",
       "      <td>70000</td>\n",
       "      <td>2</td>\n",
       "    </tr>\n",
       "    <tr>\n",
       "      <th>1</th>\n",
       "      <td>Michael</td>\n",
       "      <td>29</td>\n",
       "      <td>90000</td>\n",
       "      <td>2</td>\n",
       "    </tr>\n",
       "    <tr>\n",
       "      <th>2</th>\n",
       "      <td>Mohan</td>\n",
       "      <td>29</td>\n",
       "      <td>61000</td>\n",
       "      <td>1</td>\n",
       "    </tr>\n",
       "    <tr>\n",
       "      <th>3</th>\n",
       "      <td>Ismail</td>\n",
       "      <td>28</td>\n",
       "      <td>60000</td>\n",
       "      <td>1</td>\n",
       "    </tr>\n",
       "    <tr>\n",
       "      <th>4</th>\n",
       "      <td>Kory</td>\n",
       "      <td>42</td>\n",
       "      <td>150000</td>\n",
       "      <td>0</td>\n",
       "    </tr>\n",
       "  </tbody>\n",
       "</table>\n",
       "</div>"
      ],
      "text/plain": [
       "      Name  Age  Income($)  cluster\n",
       "0      Rob   27      70000        2\n",
       "1  Michael   29      90000        2\n",
       "2    Mohan   29      61000        1\n",
       "3   Ismail   28      60000        1\n",
       "4     Kory   42     150000        0"
      ]
     },
     "execution_count": 5,
     "metadata": {},
     "output_type": "execute_result"
    }
   ],
   "source": [
    "df['cluster']=y_predicted\n",
    "df.head()"
   ]
  },
  {
   "cell_type": "code",
   "execution_count": 6,
   "id": "aaadca40-1215-4b5e-a43e-582ccdfbcea7",
   "metadata": {},
   "outputs": [
    {
     "data": {
      "text/plain": [
       "array([[3.82857143e+01, 1.50000000e+05],\n",
       "       [3.29090909e+01, 5.61363636e+04],\n",
       "       [3.40000000e+01, 8.05000000e+04]])"
      ]
     },
     "execution_count": 6,
     "metadata": {},
     "output_type": "execute_result"
    }
   ],
   "source": [
    "km.cluster_centers_"
   ]
  },
  {
   "cell_type": "code",
   "execution_count": 7,
   "id": "3fa41d03-ce42-4eed-a519-6c4648acad90",
   "metadata": {},
   "outputs": [
    {
     "data": {
      "text/plain": [
       "<matplotlib.legend.Legend at 0x1d1eb2e7e90>"
      ]
     },
     "execution_count": 7,
     "metadata": {},
     "output_type": "execute_result"
    },
    {
     "data": {
      "image/png": "[encoded data removed]",
      "text/plain": [
       "<Figure size 640x480 with 1 Axes>"
      ]
     },
     "metadata": {},
     "output_type": "display_data"
    }
   ],
   "source": [
    "df1 = df[df.cluster==0]\n",
    "df2 = df[df.cluster==1]\n",
    "df3 = df[df.cluster==2]\n",
    "plt.scatter(df1.Age,df1['Income($)'],color='green')\n",
    "plt.scatter(df2.Age,df2['Income($)'],color='red')\n",
    "plt.scatter(df3.Age,df3['Income($)'],color='black')\n",
    "plt.scatter(km.cluster_centers_[:,0],km.cluster_centers_[:,1],color='purple',marker='*',label='centroid')\n",
    "plt.xlabel('Age')\n",
    "plt.ylabel('Income ($)')\n",
    "plt.legend()"
   ]
  },
  {
   "cell_type": "code",
   "execution_count": 8,
   "id": "eb63f246-bf7e-490d-8c01-099ce0484178",
   "metadata": {},
   "outputs": [],
   "source": [
    "scaler = MinMaxScaler()\n",
    "\n",
    "scaler.fit(df[['Income($)']])\n",
    "df['Income($)'] = scaler.transform(df[['Income($)']])\n",
    "\n",
    "scaler.fit(df[['Age']])\n",
    "df['Age'] = scaler.transform(df[['Age']])"
   ]
  },
  {
   "cell_type": "code",
   "execution_count": 9,
   "id": "f9426087-529a-4be3-9d84-69fc038dc790",
   "metadata": {},
   "outputs": [
    {
     "data": {
      "text/html": [
       "<div>\n",
       "<style scoped>\n",
       "    .dataframe tbody tr th:only-of-type {\n",
       "        vertical-align: middle;\n",
       "    }\n",
       "\n",
       "    .dataframe tbody tr th {\n",
       "        vertical-align: top;\n",
       "    }\n",
       "\n",
       "    .dataframe thead th {\n",
       "        text-align: right;\n",
       "    }\n",
       "</style>\n",
       "<table border=\"1\" class=\"dataframe\">\n",
       "  <thead>\n",
       "    <tr style=\"text-align: right;\">\n",
       "      <th></th>\n",
       "      <th>Name</th>\n",
       "      <th>Age</th>\n",
       "      <th>Income($)</th>\n",
       "      <th>cluster</th>\n",
       "    </tr>\n",
       "  </thead>\n",
       "  <tbody>\n",
       "    <tr>\n",
       "      <th>0</th>\n",
       "      <td>Rob</td>\n",
       "      <td>0.058824</td>\n",
       "      <td>0.213675</td>\n",
       "      <td>2</td>\n",
       "    </tr>\n",
       "    <tr>\n",
       "      <th>1</th>\n",
       "      <td>Michael</td>\n",
       "      <td>0.176471</td>\n",
       "      <td>0.384615</td>\n",
       "      <td>2</td>\n",
       "    </tr>\n",
       "    <tr>\n",
       "      <th>2</th>\n",
       "      <td>Mohan</td>\n",
       "      <td>0.176471</td>\n",
       "      <td>0.136752</td>\n",
       "      <td>1</td>\n",
       "    </tr>\n",
       "    <tr>\n",
       "      <th>3</th>\n",
       "      <td>Ismail</td>\n",
       "      <td>0.117647</td>\n",
       "      <td>0.128205</td>\n",
       "      <td>1</td>\n",
       "    </tr>\n",
       "    <tr>\n",
       "      <th>4</th>\n",
       "      <td>Kory</td>\n",
       "      <td>0.941176</td>\n",
       "      <td>0.897436</td>\n",
       "      <td>0</td>\n",
       "    </tr>\n",
       "  </tbody>\n",
       "</table>\n",
       "</div>"
      ],
      "text/plain": [
       "      Name       Age  Income($)  cluster\n",
       "0      Rob  0.058824   0.213675        2\n",
       "1  Michael  0.176471   0.384615        2\n",
       "2    Mohan  0.176471   0.136752        1\n",
       "3   Ismail  0.117647   0.128205        1\n",
       "4     Kory  0.941176   0.897436        0"
      ]
     },
     "execution_count": 9,
     "metadata": {},
     "output_type": "execute_result"
    }
   ],
   "source": [
    "df.head()"
   ]
  },
  {
   "cell_type": "code",
   "execution_count": 10,
   "id": "8a5b0f4f-cf03-4f30-93b1-23902712b283",
   "metadata": {},
   "outputs": [
    {
     "data": {
      "text/plain": [
       "<matplotlib.collections.PathCollection at 0x1d1ed53ee90>"
      ]
     },
     "execution_count": 10,
     "metadata": {},
     "output_type": "execute_result"
    },
    {
     "data": {
      "image/png": "[encoded data removed]",
      "text/plain": [
       "<Figure size 640x480 with 1 Axes>"
      ]
     },
     "metadata": {},
     "output_type": "display_data"
    }
   ],
   "source": [
    "plt.scatter(df.Age,df['Income($)'])"
   ]
  },
  {
   "cell_type": "code",
   "execution_count": 11,
   "id": "edcea4c3-f32b-4f58-b1e8-f3c85e5c420c",
   "metadata": {},
   "outputs": [
    {
     "data": {
      "text/plain": [
       "array([2, 2, 2, 2, 1, 1, 1, 1, 1, 1, 1, 2, 2, 2, 2, 2, 0, 0, 0, 0, 0, 0])"
      ]
     },
     "execution_count": 11,
     "metadata": {},
     "output_type": "execute_result"
    }
   ],
   "source": [
    "km = KMeans(n_clusters=3)\n",
    "y_predicted = km.fit_predict(df[['Age','Income($)']])\n",
    "y_predicted"
   ]
  },
  {
   "cell_type": "code",
   "execution_count": 12,
   "id": "489414ae-bf32-4021-8b6c-a2a67629cf2d",
   "metadata": {},
   "outputs": [
    {
     "data": {
      "text/html": [
       "<div>\n",
       "<style scoped>\n",
       "    .dataframe tbody tr th:only-of-type {\n",
       "        vertical-align: middle;\n",
       "    }\n",
       "\n",
       "    .dataframe tbody tr th {\n",
       "        vertical-align: top;\n",
       "    }\n",
       "\n",
       "    .dataframe thead th {\n",
       "        text-align: right;\n",
       "    }\n",
       "</style>\n",
       "<table border=\"1\" class=\"dataframe\">\n",
       "  <thead>\n",
       "    <tr style=\"text-align: right;\">\n",
       "      <th></th>\n",
       "      <th>Name</th>\n",
       "      <th>Age</th>\n",
       "      <th>Income($)</th>\n",
       "      <th>cluster</th>\n",
       "    </tr>\n",
       "  </thead>\n",
       "  <tbody>\n",
       "    <tr>\n",
       "      <th>0</th>\n",
       "      <td>Rob</td>\n",
       "      <td>0.058824</td>\n",
       "      <td>0.213675</td>\n",
       "      <td>2</td>\n",
       "    </tr>\n",
       "    <tr>\n",
       "      <th>1</th>\n",
       "      <td>Michael</td>\n",
       "      <td>0.176471</td>\n",
       "      <td>0.384615</td>\n",
       "      <td>2</td>\n",
       "    </tr>\n",
       "    <tr>\n",
       "      <th>2</th>\n",
       "      <td>Mohan</td>\n",
       "      <td>0.176471</td>\n",
       "      <td>0.136752</td>\n",
       "      <td>2</td>\n",
       "    </tr>\n",
       "    <tr>\n",
       "      <th>3</th>\n",
       "      <td>Ismail</td>\n",
       "      <td>0.117647</td>\n",
       "      <td>0.128205</td>\n",
       "      <td>2</td>\n",
       "    </tr>\n",
       "    <tr>\n",
       "      <th>4</th>\n",
       "      <td>Kory</td>\n",
       "      <td>0.941176</td>\n",
       "      <td>0.897436</td>\n",
       "      <td>1</td>\n",
       "    </tr>\n",
       "  </tbody>\n",
       "</table>\n",
       "</div>"
      ],
      "text/plain": [
       "      Name       Age  Income($)  cluster\n",
       "0      Rob  0.058824   0.213675        2\n",
       "1  Michael  0.176471   0.384615        2\n",
       "2    Mohan  0.176471   0.136752        2\n",
       "3   Ismail  0.117647   0.128205        2\n",
       "4     Kory  0.941176   0.897436        1"
      ]
     },
     "execution_count": 12,
     "metadata": {},
     "output_type": "execute_result"
    }
   ],
   "source": [
    "df['cluster']=y_predicted\n",
    "df.head()"
   ]
  },
  {
   "cell_type": "code",
   "execution_count": 13,
   "id": "27ec9ae1-bd99-496d-a1d6-6815cb8c58f5",
   "metadata": {},
   "outputs": [
    {
     "data": {
      "text/plain": [
       "array([[0.85294118, 0.2022792 ],\n",
       "       [0.72268908, 0.8974359 ],\n",
       "       [0.1372549 , 0.11633428]])"
      ]
     },
     "execution_count": 13,
     "metadata": {},
     "output_type": "execute_result"
    }
   ],
   "source": [
    "km.cluster_centers_"
   ]
  },
  {
   "cell_type": "code",
   "execution_count": 14,
   "id": "2ca93535-7330-4b2e-99fb-b7a052ad79e2",
   "metadata": {},
   "outputs": [
    {
     "data": {
      "text/plain": [
       "<matplotlib.legend.Legend at 0x1d1eb3601d0>"
      ]
     },
     "execution_count": 14,
     "metadata": {},
     "output_type": "execute_result"
    },
    {
     "data": {
      "image/png": "[encoded data removed]",
      "text/plain": [
       "<Figure size 640x480 with 1 Axes>"
      ]
     },
     "metadata": {},
     "output_type": "display_data"
    }
   ],
   "source": [
    "df1 = df[df.cluster==0]\n",
    "df2 = df[df.cluster==1]\n",
    "df3 = df[df.cluster==2]\n",
    "plt.scatter(df1.Age,df1['Income($)'],color='green')\n",
    "plt.scatter(df2.Age,df2['Income($)'],color='red')\n",
    "plt.scatter(df3.Age,df3['Income($)'],color='black')\n",
    "plt.scatter(km.cluster_centers_[:,0],km.cluster_centers_[:,1],color='purple',marker='*',label='centroid')\n",
    "plt.legend()"
   ]
  },
  {
   "cell_type": "code",
   "execution_count": 15,
   "id": "1907846c-0ba7-4bfa-ad08-a7c130a8d3bd",
   "metadata": {},
   "outputs": [],
   "source": [
    "sse = []\n",
    "k_rng = range(1,10)\n",
    "for k in k_rng:\n",
    "    km = KMeans(n_clusters=k)\n",
    "    km.fit(df[['Age','Income($)']])\n",
    "    sse.append(km.inertia_)"
   ]
  },
  {
   "cell_type": "code",
   "execution_count": 16,
   "id": "cda3da07-59cf-4591-a679-4ddf17c60ed2",
   "metadata": {},
   "outputs": [
    {
     "data": {
      "text/plain": [
       "[<matplotlib.lines.Line2D at 0x1d1eb40d8d0>]"
      ]
     },
     "execution_count": 16,
     "metadata": {},
     "output_type": "execute_result"
    },
    {
     "data": {
      "image/png": "[encoded data removed]",
      "text/plain": [
       "<Figure size 640x480 with 1 Axes>"
      ]
     },
     "metadata": {},
     "output_type": "display_data"
    }
   ],
   "source": [
    "\n",
    "plt.xlabel('K')\n",
    "plt.ylabel('Sum of squared error')\n",
    "plt.plot(k_rng,sse)"
   ]
  },
  {
   "cell_type": "code",
   "execution_count": 17,
   "id": "1561158a-c261-47cb-bb72-fabe58619c73",
   "metadata": {},
   "outputs": [],
   "source": [
    "x=df.iloc[:,1:3]\n",
    "y=df.iloc[:,-1]"
   ]
  },
  {
   "cell_type": "code",
   "execution_count": 18,
   "id": "cc07cb72-8670-4dd4-a274-d9fd5b239ad8",
   "metadata": {},
   "outputs": [],
   "source": [
    "from sklearn.model_selection import train_test_split\n",
    "X_train, X_test, y_train, y_test = train_test_split(x,y,test_size=0.2, random_state=2)"
   ]
  },
  {
   "cell_type": "code",
   "execution_count": 19,
   "id": "e3687539-70a2-4afb-a63b-dc1a0dbe3f05",
   "metadata": {},
   "outputs": [],
   "source": [
    "lr = LogisticRegression()"
   ]
  },
  {
   "cell_type": "code",
   "execution_count": 20,
   "id": "21ff486c-35f0-45f7-8434-9d5a5dcfdb75",
   "metadata": {},
   "outputs": [
    {
     "data": {
      "text/plain": [
       "1.0"
      ]
     },
     "execution_count": 20,
     "metadata": {},
     "output_type": "execute_result"
    }
   ],
   "source": [
    "lr.fit(X_train,y_train)\n",
    "y_pred = lr.predict(X_test)\n",
    "accuracy_score(y_test,y_pred)"
   ]
  },
  {
   "cell_type": "code",
   "execution_count": null,
   "id": "d172701a-d1dc-4229-b116-b4ead12824c1",
   "metadata": {},
   "outputs": [],
   "source": []
  },
  {
   "cell_type": "markdown",
   "id": "e5f9515e-3e07-476d-8561-ac299b847cff",
   "metadata": {},
   "source": [
    "### PCA\n"
   ]
  },
  {
   "cell_type": "code",
   "execution_count": 21,
   "id": "69f5cd48-f6a6-4e28-843b-dd17c822e3aa",
   "metadata": {},
   "outputs": [
    {
     "data": {
      "text/html": [
       "<div>\n",
       "<style scoped>\n",
       "    .dataframe tbody tr th:only-of-type {\n",
       "        vertical-align: middle;\n",
       "    }\n",
       "\n",
       "    .dataframe tbody tr th {\n",
       "        vertical-align: top;\n",
       "    }\n",
       "\n",
       "    .dataframe thead th {\n",
       "        text-align: right;\n",
       "    }\n",
       "</style>\n",
       "<table border=\"1\" class=\"dataframe\">\n",
       "  <thead>\n",
       "    <tr style=\"text-align: right;\">\n",
       "      <th></th>\n",
       "      <th>age</th>\n",
       "      <th>sex</th>\n",
       "      <th>cp</th>\n",
       "      <th>trestbps</th>\n",
       "      <th>chol</th>\n",
       "      <th>fbs</th>\n",
       "      <th>restecg</th>\n",
       "      <th>thalach</th>\n",
       "      <th>exang</th>\n",
       "      <th>oldpeak</th>\n",
       "      <th>slope</th>\n",
       "      <th>ca</th>\n",
       "      <th>thal</th>\n",
       "    </tr>\n",
       "  </thead>\n",
       "  <tbody>\n",
       "    <tr>\n",
       "      <th>0</th>\n",
       "      <td>63</td>\n",
       "      <td>1</td>\n",
       "      <td>3</td>\n",
       "      <td>145</td>\n",
       "      <td>233</td>\n",
       "      <td>1</td>\n",
       "      <td>0</td>\n",
       "      <td>150</td>\n",
       "      <td>0</td>\n",
       "      <td>2.3</td>\n",
       "      <td>0</td>\n",
       "      <td>0</td>\n",
       "      <td>1</td>\n",
       "    </tr>\n",
       "    <tr>\n",
       "      <th>1</th>\n",
       "      <td>37</td>\n",
       "      <td>1</td>\n",
       "      <td>2</td>\n",
       "      <td>130</td>\n",
       "      <td>250</td>\n",
       "      <td>0</td>\n",
       "      <td>1</td>\n",
       "      <td>187</td>\n",
       "      <td>0</td>\n",
       "      <td>3.5</td>\n",
       "      <td>0</td>\n",
       "      <td>0</td>\n",
       "      <td>2</td>\n",
       "    </tr>\n",
       "    <tr>\n",
       "      <th>2</th>\n",
       "      <td>41</td>\n",
       "      <td>0</td>\n",
       "      <td>1</td>\n",
       "      <td>130</td>\n",
       "      <td>204</td>\n",
       "      <td>0</td>\n",
       "      <td>0</td>\n",
       "      <td>172</td>\n",
       "      <td>0</td>\n",
       "      <td>1.4</td>\n",
       "      <td>2</td>\n",
       "      <td>0</td>\n",
       "      <td>2</td>\n",
       "    </tr>\n",
       "    <tr>\n",
       "      <th>3</th>\n",
       "      <td>56</td>\n",
       "      <td>1</td>\n",
       "      <td>1</td>\n",
       "      <td>120</td>\n",
       "      <td>236</td>\n",
       "      <td>0</td>\n",
       "      <td>1</td>\n",
       "      <td>178</td>\n",
       "      <td>0</td>\n",
       "      <td>0.8</td>\n",
       "      <td>2</td>\n",
       "      <td>0</td>\n",
       "      <td>2</td>\n",
       "    </tr>\n",
       "    <tr>\n",
       "      <th>4</th>\n",
       "      <td>57</td>\n",
       "      <td>0</td>\n",
       "      <td>0</td>\n",
       "      <td>120</td>\n",
       "      <td>354</td>\n",
       "      <td>0</td>\n",
       "      <td>1</td>\n",
       "      <td>163</td>\n",
       "      <td>1</td>\n",
       "      <td>0.6</td>\n",
       "      <td>2</td>\n",
       "      <td>0</td>\n",
       "      <td>2</td>\n",
       "    </tr>\n",
       "  </tbody>\n",
       "</table>\n",
       "</div>"
      ],
      "text/plain": [
       "   age  sex  cp  trestbps  chol  fbs  restecg  thalach  exang  oldpeak  slope  \\\n",
       "0   63    1   3       145   233    1        0      150      0      2.3      0   \n",
       "1   37    1   2       130   250    0        1      187      0      3.5      0   \n",
       "2   41    0   1       130   204    0        0      172      0      1.4      2   \n",
       "3   56    1   1       120   236    0        1      178      0      0.8      2   \n",
       "4   57    0   0       120   354    0        1      163      1      0.6      2   \n",
       "\n",
       "   ca  thal  \n",
       "0   0     1  \n",
       "1   0     2  \n",
       "2   0     2  \n",
       "3   0     2  \n",
       "4   0     2  "
      ]
     },
     "execution_count": 21,
     "metadata": {},
     "output_type": "execute_result"
    }
   ],
   "source": [
    "df = pd.read_csv(\"heart _notarget.csv\")\n",
    "df.head()"
   ]
  },
  {
   "cell_type": "code",
   "execution_count": 22,
   "id": "20b0128d-82d2-4b44-ab5b-e1cc6a16726c",
   "metadata": {},
   "outputs": [
    {
     "data": {
      "text/plain": [
       "array([[ 0.9521966 ,  0.68100522,  1.97312292, ..., -2.27457861,\n",
       "        -0.71442887, -2.14887271],\n",
       "       [-1.91531289,  0.68100522,  1.00257707, ..., -2.27457861,\n",
       "        -0.71442887, -0.51292188],\n",
       "       [-1.47415758, -1.46841752,  0.03203122, ...,  0.97635214,\n",
       "        -0.71442887, -0.51292188],\n",
       "       ...,\n",
       "       [ 1.50364073,  0.68100522, -0.93851463, ..., -0.64911323,\n",
       "         1.24459328,  1.12302895],\n",
       "       [ 0.29046364,  0.68100522, -0.93851463, ..., -0.64911323,\n",
       "         0.26508221,  1.12302895],\n",
       "       [ 0.29046364, -1.46841752,  0.03203122, ..., -0.64911323,\n",
       "         0.26508221, -0.51292188]])"
      ]
     },
     "execution_count": 22,
     "metadata": {},
     "output_type": "execute_result"
    }
   ],
   "source": [
    "# Standardize features\n",
    "scaler = StandardScaler()\n",
    "X_scaled = scaler.fit_transform(df)\n",
    "X_scaled "
   ]
  },
  {
   "cell_type": "code",
   "execution_count": 23,
   "id": "061df043-2e4d-48e7-8676-ae417b252653",
   "metadata": {},
   "outputs": [],
   "source": [
    "# Apply PCA\n",
    "pca = PCA(n_components=3)  # Reduce to 2 principal components\n",
    "X_pca = pca.fit_transform(X_scaled)"
   ]
  },
  {
   "cell_type": "code",
   "execution_count": 24,
   "id": "aa2a5d15-8296-4cdb-b4eb-af21992feb46",
   "metadata": {},
   "outputs": [
    {
     "data": {
      "text/plain": [
       "array([[ 6.24110729e-01,  2.32127028e+00,  2.47467255e+00],\n",
       "       [-4.55987975e-01, -9.57350982e-01,  1.13959480e+00],\n",
       "       [-1.82880491e+00,  4.28847737e-02, -4.52228781e-01],\n",
       "       [-1.71600605e+00, -4.95337323e-01,  3.06310222e-02],\n",
       "       [-3.71356421e-01,  3.01156175e-01, -2.84106933e+00],\n",
       "       [-6.48867460e-01, -3.82882350e-01, -7.67910488e-02],\n",
       "       [-7.26534041e-02,  1.46021954e+00, -1.22178690e+00],\n",
       "       [-1.90592574e+00, -1.15199470e+00,  3.60953001e-02],\n",
       "       [-9.05732769e-01,  1.17802505e+00,  2.73551408e+00],\n",
       "       [-1.42452084e+00,  6.00440468e-02,  1.30039584e+00],\n",
       "       [-8.29249247e-01, -4.31111662e-01, -1.72367027e-01],\n",
       "       [-1.76837052e+00,  6.66082010e-01, -1.25047870e+00],\n",
       "       [-1.73039364e+00, -3.62122452e-01, -8.42405144e-02],\n",
       "       [ 4.78579542e-01, -3.66100880e-01,  6.01523777e-01],\n",
       "       [-1.13904999e+00,  3.31505033e+00,  9.21917154e-01],\n",
       "       [-1.15305728e+00,  3.38842792e-02, -5.61545357e-01],\n",
       "       [-2.05289635e+00,  1.44304375e+00, -1.77361008e+00],\n",
       "       [ 1.24660567e+00,  1.56563220e+00, -1.76316267e-01],\n",
       "       [-1.17898795e+00, -5.93288357e-01,  9.98216241e-02],\n",
       "       [-3.87798996e-01,  2.04509682e+00, -1.26780025e-01],\n",
       "       [-1.09484581e-02, -7.39533549e-01,  2.17371670e-02],\n",
       "       [-1.69288377e+00, -1.05478211e+00,  3.41104984e-01],\n",
       "       [-2.03684479e+00, -9.44816640e-01,  6.49382621e-02],\n",
       "       [ 9.35559575e-01,  9.21609753e-01,  1.55987151e+00],\n",
       "       [-1.32664177e+00, -1.31154957e+00,  1.40624347e+00],\n",
       "       [-1.39644919e-01,  2.60255695e+00, -1.16127454e+00],\n",
       "       [-7.38694870e-01,  1.29433620e+00,  2.16988972e+00],\n",
       "       [-1.46985273e+00, -1.28905546e+00,  3.93640400e-01],\n",
       "       [-1.44718583e-01,  4.11799172e+00, -5.43538948e-01],\n",
       "       [ 2.33446358e-01,  6.83863299e-01,  2.45470480e+00],\n",
       "       [-2.51462707e+00, -9.04060838e-01, -8.47034502e-01],\n",
       "       [-3.60909832e-01, -1.23607299e+00, -4.07529143e-02],\n",
       "       [-2.29381971e+00, -4.11500959e-01,  5.68488659e-01],\n",
       "       [ 1.95138723e-01,  3.70030395e-01,  5.45625909e-01],\n",
       "       [ 4.17978771e-02, -4.34762882e-01,  7.85531065e-01],\n",
       "       [ 3.66186582e-01, -9.36466989e-02,  8.23865970e-02],\n",
       "       [-1.87209672e+00,  2.27149641e+00,  6.70956943e-02],\n",
       "       [-6.12868482e-01,  4.38220805e-01,  1.13922909e+00],\n",
       "       [-8.76984260e-01,  2.01456281e+00, -9.69114102e-01],\n",
       "       [-4.29390862e-01,  3.21168571e+00, -1.43745876e+00],\n",
       "       [-5.57570271e-01,  1.74775482e+00, -9.31057758e-01],\n",
       "       [-1.26081093e+00, -1.64062709e-01,  4.05732514e-01],\n",
       "       [ 9.11469357e-01, -2.29447547e+00, -1.45016833e-01],\n",
       "       [-2.26867255e-01,  5.82251192e-01, -1.57198080e+00],\n",
       "       [-2.28791024e+00,  6.01398620e-01,  2.37823074e-01],\n",
       "       [-1.76066724e+00, -4.09448669e-02, -7.27951366e-01],\n",
       "       [-2.27329407e+00,  2.12736619e-01,  8.49905551e-01],\n",
       "       [-1.70331203e+00,  3.70308829e-01,  4.56008772e-01],\n",
       "       [-1.86836572e+00,  1.42913226e+00, -1.28490452e+00],\n",
       "       [-1.28263071e+00,  7.25685018e-01, -1.28281520e+00],\n",
       "       [-1.53774483e+00,  1.10788521e+00, -8.64204910e-01],\n",
       "       [ 2.54315975e-01,  3.97205643e-01, -8.74811551e-01],\n",
       "       [ 1.04746686e+00, -7.42857672e-03,  1.20832824e+00],\n",
       "       [-2.33560884e+00, -9.81680314e-01, -1.79294899e-03],\n",
       "       [-1.67838555e+00,  1.84323020e+00, -7.87397049e-01],\n",
       "       [-1.15501432e+00, -5.46593725e-01,  5.52373405e-01],\n",
       "       [-1.92948984e+00, -7.06723512e-01,  4.99015090e-02],\n",
       "       [-2.00256825e+00, -7.52005344e-01, -3.06883004e-01],\n",
       "       [-3.12837567e+00, -8.91051335e-01,  1.42017958e+00],\n",
       "       [-8.06669491e-01,  1.22947541e+00, -1.81167183e+00],\n",
       "       [-3.94560324e-01,  2.50933383e+00, -2.00999467e-02],\n",
       "       [-1.27147048e+00, -7.38223238e-01, -6.87564786e-01],\n",
       "       [-2.53287997e+00,  2.47639537e-01,  1.22809965e+00],\n",
       "       [-1.35079404e+00, -8.95169695e-01,  1.41964514e-01],\n",
       "       [-1.36230549e+00,  1.51234405e+00,  2.14466959e+00],\n",
       "       [-2.15923721e+00, -8.48789968e-01, -5.78470352e-01],\n",
       "       [-2.27775319e-01, -1.80679343e+00, -4.70993419e-02],\n",
       "       [-1.34909390e+00,  4.01042008e-01, -6.65576492e-01],\n",
       "       [-2.31204282e+00, -1.13675227e+00,  1.49722306e-01],\n",
       "       [-1.47245711e+00,  1.91834447e-01, -1.49128261e+00],\n",
       "       [-3.58290535e-01, -2.15242599e-01,  4.66227474e-01],\n",
       "       [-9.00657970e-01, -1.98769071e+00,  6.98656923e-02],\n",
       "       [-3.10263149e+00, -1.14139417e+00,  9.39232035e-01],\n",
       "       [-7.77727474e-01, -4.08137174e-01, -3.48442106e-01],\n",
       "       [-2.02255469e+00, -1.84934457e-01, -5.03168001e-01],\n",
       "       [-3.69141309e-01,  1.00307778e+00, -8.57957295e-01],\n",
       "       [-2.17374162e-01,  8.79489279e-01,  2.13006572e+00],\n",
       "       [-7.00350164e-01, -5.38710651e-01, -9.18734013e-02],\n",
       "       [-2.03272023e+00,  2.56463178e-01,  1.72964355e+00],\n",
       "       [ 2.97099388e-01, -1.08443288e+00,  1.90031392e-01],\n",
       "       [-2.86242797e+00, -9.40849473e-01,  2.60012460e-01],\n",
       "       [-1.75044772e+00,  1.48892731e-01, -2.91188184e-01],\n",
       "       [-1.73634247e+00,  9.78535417e-01, -1.73377262e+00],\n",
       "       [-5.78469356e-01,  1.60771202e+00,  2.36621868e+00],\n",
       "       [-4.45009018e-01, -6.84698902e-01, -1.91801234e+00],\n",
       "       [ 7.36184643e-01,  3.19974398e+00, -3.12698724e+00],\n",
       "       [-2.99639697e-01,  2.32348803e-01,  1.22663895e-01],\n",
       "       [-1.66919609e+00, -1.16808381e+00,  1.55133868e+00],\n",
       "       [-1.13082898e+00, -7.24242833e-02, -6.80064936e-01],\n",
       "       [ 1.94677672e-01, -1.55839503e-01, -1.93524580e+00],\n",
       "       [-1.66720309e+00,  7.71701262e-01,  1.97429661e+00],\n",
       "       [-3.28562145e-01, -1.53038550e+00, -1.68187347e-01],\n",
       "       [-1.01659168e+00,  3.47178140e-01,  1.31140909e+00],\n",
       "       [-1.91812262e-01,  1.70969179e+00, -1.84022253e-01],\n",
       "       [-1.49262806e+00, -1.09040659e+00, -7.74982659e-01],\n",
       "       [ 9.62440887e-01, -1.09883802e+00, -3.84590677e-01],\n",
       "       [ 5.19560081e-01,  2.16304236e+00, -2.40047878e+00],\n",
       "       [-3.64556302e-02, -5.17554030e-01,  1.42704980e+00],\n",
       "       [-1.19147000e+00,  5.76595678e-03,  1.79556688e-01],\n",
       "       [-9.03942011e-01,  1.58856809e+00,  2.39906311e+00],\n",
       "       [-1.64330093e+00,  8.16829513e-01,  1.66125246e+00],\n",
       "       [ 2.21433249e+00,  1.57653769e+00,  1.80937204e+00],\n",
       "       [-1.32410540e+00,  1.06586014e+00, -3.88233919e-01],\n",
       "       [-9.45098926e-01, -3.44255927e-01,  2.40072080e+00],\n",
       "       [-2.20305006e+00, -5.47149621e-01,  6.79420339e-01],\n",
       "       [ 4.42831822e-01,  1.06261808e+00, -8.22468991e-01],\n",
       "       [ 5.55050959e-01,  2.84941902e+00,  2.50259074e+00],\n",
       "       [ 5.03643963e-02, -2.94463278e-01, -1.40131553e+00],\n",
       "       [-1.70100152e+00,  3.62769746e-02, -1.24494372e+00],\n",
       "       [-1.61712759e+00,  2.80553463e-02, -1.74222520e+00],\n",
       "       [ 3.82396840e-01,  1.90838903e+00, -2.10599262e+00],\n",
       "       [-1.17044214e+00,  4.80380395e-01,  3.23022290e+00],\n",
       "       [-5.50181431e-01,  1.55192727e+00, -1.43656922e+00],\n",
       "       [-1.67849081e+00, -2.14273598e+00, -8.96267515e-02],\n",
       "       [-1.45734244e+00, -1.48979053e-01, -2.82813191e-01],\n",
       "       [-3.02772373e+00, -3.84985508e-01, -5.84386864e-01],\n",
       "       [-9.70018179e-01, -5.29495703e-01,  1.15744468e+00],\n",
       "       [-4.33119094e-01, -3.11568230e-01,  1.55082540e+00],\n",
       "       [-2.66826953e+00, -7.16422029e-01, -1.09832685e+00],\n",
       "       [ 2.84915902e-02, -1.91342721e-01, -1.48589950e+00],\n",
       "       [ 1.49653150e+00,  9.69770490e-01, -1.79678586e+00],\n",
       "       [-1.19623625e+00,  5.17978486e-01, -2.91822913e-01],\n",
       "       [-1.87579331e+00, -1.66117333e-01, -1.22241760e+00],\n",
       "       [-2.14878334e+00,  8.53020352e-01, -1.16118628e+00],\n",
       "       [-3.43174362e+00, -1.02813770e+00, -7.19453241e-01],\n",
       "       [-3.04480004e+00, -8.49784825e-01, -6.64710307e-01],\n",
       "       [-1.53392034e+00, -1.70025940e+00, -3.72237734e-01],\n",
       "       [-1.28012604e+00,  2.29544296e+00, -8.18095541e-01],\n",
       "       [-1.46794139e+00,  8.87683868e-01, -1.11517114e-01],\n",
       "       [ 8.89542149e-01,  1.14033501e+00, -1.98011743e+00],\n",
       "       [-1.65505163e+00,  1.34730906e+00, -5.33711086e-02],\n",
       "       [-1.30826680e+00,  5.03005648e-01, -1.26909468e+00],\n",
       "       [-2.06551481e+00, -7.25253420e-01, -4.75997247e-01],\n",
       "       [-2.17738669e+00, -1.47362290e+00, -1.71446294e-01],\n",
       "       [-2.22565349e+00,  2.73037781e-01, -1.66814744e+00],\n",
       "       [-1.72382142e+00,  1.82338061e-01, -1.75943014e+00],\n",
       "       [-7.59739493e-01,  1.02525927e+00,  3.11140726e-01],\n",
       "       [-6.34687983e-01,  9.96422582e-01,  1.46762780e+00],\n",
       "       [ 6.25607126e-01, -1.75577351e+00, -8.13943143e-01],\n",
       "       [ 2.10385361e+00, -1.13242627e+00, -8.45906334e-01],\n",
       "       [-1.66382947e+00,  1.15509250e+00, -1.22312042e+00],\n",
       "       [-1.09304542e+00, -1.10576638e+00, -5.88385107e-01],\n",
       "       [-2.30540299e+00, -2.71697450e-01, -4.48225390e-01],\n",
       "       [-4.30092160e-01,  1.63349949e-01, -1.62022223e+00],\n",
       "       [ 2.48771048e-01,  1.00283690e+00, -9.33222164e-01],\n",
       "       [-2.41139543e-01,  1.43371763e+00,  8.50830986e-02],\n",
       "       [-1.36885327e+00, -2.73621086e-03, -7.10076227e-01],\n",
       "       [-1.81778359e+00,  1.82350637e+00, -2.31734617e-01],\n",
       "       [-2.54673833e+00, -8.09381006e-01,  4.41973174e-01],\n",
       "       [-2.26928559e+00, -1.03745572e+00,  8.10202597e-01],\n",
       "       [ 4.50718788e-01,  1.15403871e+00, -5.94933177e-02],\n",
       "       [ 4.65929054e-01, -4.08170719e-01, -1.24217248e+00],\n",
       "       [ 1.03307941e-01,  1.57236212e+00,  1.60977968e+00],\n",
       "       [-1.50660602e-01,  2.38152957e+00, -7.33988184e-01],\n",
       "       [-1.81284743e+00,  5.03633148e-02, -4.39562753e-01],\n",
       "       [-1.57907341e-01, -1.36373081e-01, -1.32970275e+00],\n",
       "       [-2.45862893e+00, -2.00484134e-01,  3.83678282e-01],\n",
       "       [-2.73927954e+00, -1.67346422e+00,  5.14749488e-01],\n",
       "       [ 8.95162473e-01, -5.29213408e-01,  9.64551900e-01],\n",
       "       [-1.05488497e+00, -2.73396006e-01,  4.59716106e-01],\n",
       "       [-5.98013045e-01, -6.19006677e-01,  1.00644707e-01],\n",
       "       [-1.21604215e+00,  1.26002507e+00, -1.89228965e+00],\n",
       "       [-2.77747071e+00, -1.67406427e+00,  7.60425218e-01],\n",
       "       [-1.68346856e+00, -6.04442562e-01,  1.86265771e+00],\n",
       "       [-1.68346856e+00, -6.04442562e-01,  1.86265771e+00],\n",
       "       [ 3.42750627e+00,  8.49963994e-01, -2.16241749e-01],\n",
       "       [ 2.98933554e+00, -9.51270294e-01,  4.20495342e-02],\n",
       "       [ 2.20059160e+00,  1.28327713e+00, -6.78591581e-01],\n",
       "       [ 1.21227746e+00, -1.19898712e-01,  1.02877652e-01],\n",
       "       [ 2.65181760e+00, -5.65430839e-01,  1.96765462e+00],\n",
       "       [ 4.93560075e-01,  1.16507761e+00,  1.41815491e+00],\n",
       "       [-2.61776747e-01, -1.68196011e+00,  4.46704611e-01],\n",
       "       [ 1.26485771e-02,  1.68105218e-01, -1.07926844e-01],\n",
       "       [ 2.87370588e-01,  2.50122842e-01,  1.51850315e+00],\n",
       "       [ 2.67258979e+00, -1.15735347e+00,  4.14098800e-01],\n",
       "       [ 1.32869214e+00, -3.05618567e+00,  1.73873586e-01],\n",
       "       [ 1.06495037e+00, -6.22649680e-01,  1.23697518e+00],\n",
       "       [-1.19599518e+00,  1.31739406e+00, -4.67890890e-01],\n",
       "       [ 1.63210499e+00, -2.60320608e+00,  2.69476569e-01],\n",
       "       [ 1.65603152e+00,  2.79448715e-01, -7.72215098e-01],\n",
       "       [ 1.90839438e+00, -7.54597839e-01, -1.13323544e+00],\n",
       "       [ 2.22220607e+00,  1.16804208e+00, -5.55909186e-01],\n",
       "       [-1.03560367e+00,  1.59073877e+00, -2.15328993e+00],\n",
       "       [ 3.32834850e-01, -3.74670222e-01,  1.05654788e+00],\n",
       "       [ 1.45974253e+00, -4.90202634e-01,  3.60236010e-01],\n",
       "       [-1.15018365e+00, -6.77304925e-01, -6.09527596e-01],\n",
       "       [ 1.07035164e+00, -1.17464142e+00, -4.38160606e-01],\n",
       "       [ 2.61659353e+00, -1.31513780e+00, -4.24407121e-01],\n",
       "       [-5.38173676e-01, -3.53048268e-01,  1.07729958e+00],\n",
       "       [-1.53832531e+00, -2.09653759e+00,  3.87628030e-01],\n",
       "       [ 9.94845520e-01, -5.68084873e-01, -2.03991774e+00],\n",
       "       [ 2.81843101e+00, -1.12872025e+00,  4.86600155e-01],\n",
       "       [ 1.02161781e+00, -1.77475747e+00,  1.94817115e-01],\n",
       "       [ 2.96521759e+00, -2.30563001e-01,  9.70304590e-02],\n",
       "       [ 3.26448398e-01,  2.78204770e-01,  1.31051831e+00],\n",
       "       [ 3.62859705e+00,  3.63324103e-01, -1.44668480e-01],\n",
       "       [ 1.70317729e-01, -2.49629513e-01,  1.04151644e+00],\n",
       "       [ 8.03973390e-01,  6.06859830e-01,  1.36425695e+00],\n",
       "       [ 2.91576516e+00, -1.39438828e+00, -6.59227771e-01],\n",
       "       [-5.08161331e-01,  3.28011328e-01, -4.52666164e-01],\n",
       "       [-1.81927484e+00, -1.30075367e+00,  2.66253106e-01],\n",
       "       [ 2.45124416e+00, -9.95774976e-01, -1.33392892e-01],\n",
       "       [ 1.60916279e+00, -4.00770853e-01, -6.13957638e-01],\n",
       "       [ 2.15052545e+00,  2.31391554e+00,  2.11367646e+00],\n",
       "       [ 4.02011140e+00,  6.46738596e-01,  9.01935594e-01],\n",
       "       [-3.98057583e-02, -1.44794737e+00, -4.09822830e-01],\n",
       "       [ 1.61848286e+00, -1.47427040e+00, -2.93293947e-01],\n",
       "       [ 1.65217809e+00,  1.15863210e+00, -4.94033234e-01],\n",
       "       [ 5.94297033e-01, -1.17577198e+00,  1.53628197e+00],\n",
       "       [ 1.33672683e-01, -1.38013666e+00,  2.78927991e-01],\n",
       "       [-2.30574052e-02,  1.74943974e-02,  9.57371053e-01],\n",
       "       [ 2.50244761e+00, -1.52222713e+00, -3.18400340e-01],\n",
       "       [-2.80704014e-01, -2.26958995e+00,  7.08514996e-02],\n",
       "       [ 1.60151225e+00,  7.12705025e-01, -1.80626614e+00],\n",
       "       [ 1.50220402e+00,  6.50097304e-02,  9.97661437e-01],\n",
       "       [ 2.03158524e+00,  5.89018929e-01, -5.62968913e-01],\n",
       "       [ 1.06473628e+00,  7.05765553e-01, -9.92322808e-01],\n",
       "       [ 2.69804656e+00,  9.41076514e-01,  7.63057430e-01],\n",
       "       [ 2.20520701e+00, -3.64042767e-02,  1.35196167e-01],\n",
       "       [ 7.63248551e-01, -2.01888579e-01,  1.27533220e+00],\n",
       "       [ 2.92325108e+00,  2.36151943e+00, -1.40717507e+00],\n",
       "       [ 4.00895722e+00, -1.95314675e+00,  2.45471342e-01],\n",
       "       [-1.83351385e-02,  2.54563652e+00,  2.33098701e+00],\n",
       "       [ 4.64543392e+00,  2.55026802e+00,  1.06558441e+00],\n",
       "       [ 2.07257421e+00, -2.24559036e+00, -3.69727738e-01],\n",
       "       [ 3.14268207e+00, -1.27610247e+00,  2.98261487e-01],\n",
       "       [ 1.66870959e+00, -8.60889850e-02, -1.74014946e-01],\n",
       "       [ 6.51264950e-01, -3.15972941e+00,  6.14227623e-04],\n",
       "       [-1.49252085e-01,  1.80975707e+00,  1.17049680e+00],\n",
       "       [ 1.48166051e+00, -3.82242820e-01, -3.98024091e-01],\n",
       "       [-2.22063581e+00, -9.13453066e-01,  1.95032993e-02],\n",
       "       [ 2.46791133e+00,  1.75059368e+00,  1.81380992e+00],\n",
       "       [ 1.91904872e+00, -2.16699666e-02, -8.10561742e-02],\n",
       "       [ 3.36660475e+00, -9.02727928e-01, -5.91594947e-01],\n",
       "       [ 2.83534111e+00,  1.01099038e+00, -5.18373236e-01],\n",
       "       [ 2.44404441e-01, -1.00595328e+00, -5.50973826e-01],\n",
       "       [-2.02766445e-01,  1.70739682e-01, -1.73357821e-01],\n",
       "       [ 1.07816964e+00,  4.50275681e-01,  2.62996708e-01],\n",
       "       [ 1.30334294e+00,  8.78937102e-01, -7.58414291e-01],\n",
       "       [-5.21969910e-01, -1.75780455e+00, -5.14041636e-01],\n",
       "       [ 2.97843850e+00,  4.58581276e-01,  4.15492457e-01],\n",
       "       [ 7.91370382e-01,  8.82797166e-01, -1.48111888e+00],\n",
       "       [ 1.34086441e+00,  6.75245670e-01,  3.22248560e-01],\n",
       "       [ 2.80998835e+00, -8.70841338e-01, -6.03012082e-01],\n",
       "       [ 1.89414306e+00, -9.55359879e-01, -1.51968625e-01],\n",
       "       [-2.64717957e-01, -7.88012595e-01, -1.02961409e-01],\n",
       "       [ 2.33236000e+00,  1.08946575e+00, -2.21338726e+00],\n",
       "       [ 1.66749048e+00,  8.28025663e-01,  2.17066411e-02],\n",
       "       [-6.47467855e-01,  1.82658564e+00,  1.11491688e+00],\n",
       "       [ 1.76295131e+00,  1.13012802e+00,  1.25977941e+00],\n",
       "       [ 3.53258245e+00, -1.10586565e+00,  1.08717065e-02],\n",
       "       [ 1.90690702e+00, -3.61745363e-01,  1.86210855e+00],\n",
       "       [ 2.22080478e+00,  1.95187504e+00, -1.97725657e-01],\n",
       "       [ 2.03223384e+00, -5.67301300e-01, -1.13651934e+00],\n",
       "       [-7.21984983e-01,  1.75405581e+00,  5.93454153e-01],\n",
       "       [ 1.63809100e+00, -5.51876851e-01, -4.71884240e-02],\n",
       "       [ 2.95613650e+00, -9.57498551e-01,  3.71244137e-02],\n",
       "       [ 1.49043380e+00, -1.43444058e+00,  1.84208832e-01],\n",
       "       [ 9.38365196e-01,  3.55678315e-01, -1.54286113e+00],\n",
       "       [-1.20144058e-01, -1.84943873e+00,  1.31807406e+00],\n",
       "       [ 2.09527012e+00,  1.92708014e+00,  8.24582216e-01],\n",
       "       [-1.37985027e+00, -1.13851558e+00, -3.41093609e-01],\n",
       "       [ 2.81468433e+00, -1.63942506e+00, -6.57785189e-01],\n",
       "       [ 9.95478319e-01, -2.57026849e-01, -1.73775187e+00],\n",
       "       [ 1.19198297e+00, -1.66402855e+00, -5.35371986e-01],\n",
       "       [ 6.24205035e-01, -8.78329825e-01, -6.28258795e-01],\n",
       "       [ 2.35384370e+00,  7.40691621e-01, -2.01068368e+00],\n",
       "       [-4.50054471e-01, -6.62998751e-01,  1.46156277e+00],\n",
       "       [ 2.77991960e+00, -8.24956072e-01, -4.86387703e-01],\n",
       "       [ 3.23628081e+00, -2.27227446e-01,  6.86931558e-01],\n",
       "       [-5.40748692e-01, -1.16363059e+00, -1.75428930e-01],\n",
       "       [ 4.72063927e-01,  5.54206652e-01,  1.27300225e+00],\n",
       "       [ 1.57253846e+00, -7.36114933e-01, -1.03931670e+00],\n",
       "       [-8.16632677e-01, -1.48838837e+00, -3.88233009e-01],\n",
       "       [ 1.28581045e+00, -1.50254445e+00, -8.42162218e-01],\n",
       "       [-4.36931251e-01, -1.19396153e+00,  4.87000648e-01],\n",
       "       [ 1.86431121e+00, -7.87864065e-01,  2.21326078e-01],\n",
       "       [-7.26512444e-01, -6.06163516e-01, -2.29355941e-01],\n",
       "       [-3.15969043e-01,  2.83672363e+00, -2.25093635e-02],\n",
       "       [ 2.63158109e+00, -1.03591185e+00,  4.93585627e-01],\n",
       "       [ 7.64330737e-01, -9.90866377e-01, -1.23245022e+00],\n",
       "       [-2.35336603e-01, -1.62417337e-01,  7.34040800e-01],\n",
       "       [ 1.80690338e-01,  9.72556211e-01,  1.83641036e+00],\n",
       "       [-1.67832632e+00, -1.07337582e+00,  4.74316624e-01],\n",
       "       [ 1.63929145e+00, -8.25868484e-01,  2.06395948e-01],\n",
       "       [ 2.28872040e+00, -1.22909370e+00, -4.61819648e-01],\n",
       "       [-1.24386827e+00,  4.70956394e-01,  1.35651038e+00],\n",
       "       [-8.56949860e-01,  8.73505515e-01,  6.24279886e-01],\n",
       "       [ 2.15706459e+00, -1.38606749e+00, -1.02078193e+00],\n",
       "       [ 1.41816441e+00, -1.54885040e+00, -1.31353866e+00],\n",
       "       [-4.06059853e-01, -3.49594568e-01,  4.08884154e-01],\n",
       "       [ 2.16927742e+00, -5.31447414e-01, -5.67999614e-01],\n",
       "       [ 2.24175970e+00,  2.27901051e+00,  6.38812997e-01],\n",
       "       [ 4.14157859e-01,  8.36052633e-01,  1.12528605e+00],\n",
       "       [ 9.67660777e-01, -2.38918560e+00,  5.78789317e-02],\n",
       "       [ 2.58185522e+00, -8.59185999e-01,  7.64508636e-01],\n",
       "       [ 4.14314275e-01, -5.79482296e-01, -1.74335309e+00],\n",
       "       [ 1.89555409e+00,  1.46786667e+00,  1.84788395e+00],\n",
       "       [ 1.14667187e+00, -5.19529495e-01, -1.70801998e+00],\n",
       "       [-7.08592873e-01, -1.04575189e+00,  5.44809995e-01],\n",
       "       [ 2.45900545e+00,  4.78261911e-01,  2.20821632e+00],\n",
       "       [ 1.76275536e+00, -2.33681621e+00,  4.54752582e-01],\n",
       "       [-8.60056772e-01,  1.06851556e+00, -6.90074289e-01]])"
      ]
     },
     "execution_count": 24,
     "metadata": {},
     "output_type": "execute_result"
    }
   ],
   "source": [
    "X_pca"
   ]
  },
  {
   "cell_type": "code",
   "execution_count": 25,
   "id": "c0a5c62d-92f5-4358-8e63-75f5cad70090",
   "metadata": {},
   "outputs": [
    {
     "data": {
      "text/html": [
       "<div>\n",
       "<style scoped>\n",
       "    .dataframe tbody tr th:only-of-type {\n",
       "        vertical-align: middle;\n",
       "    }\n",
       "\n",
       "    .dataframe tbody tr th {\n",
       "        vertical-align: top;\n",
       "    }\n",
       "\n",
       "    .dataframe thead th {\n",
       "        text-align: right;\n",
       "    }\n",
       "</style>\n",
       "<table border=\"1\" class=\"dataframe\">\n",
       "  <thead>\n",
       "    <tr style=\"text-align: right;\">\n",
       "      <th></th>\n",
       "      <th>0</th>\n",
       "      <th>1</th>\n",
       "      <th>2</th>\n",
       "    </tr>\n",
       "  </thead>\n",
       "  <tbody>\n",
       "    <tr>\n",
       "      <th>0</th>\n",
       "      <td>0.624111</td>\n",
       "      <td>2.321270</td>\n",
       "      <td>2.474673</td>\n",
       "    </tr>\n",
       "    <tr>\n",
       "      <th>1</th>\n",
       "      <td>-0.455988</td>\n",
       "      <td>-0.957351</td>\n",
       "      <td>1.139595</td>\n",
       "    </tr>\n",
       "    <tr>\n",
       "      <th>2</th>\n",
       "      <td>-1.828805</td>\n",
       "      <td>0.042885</td>\n",
       "      <td>-0.452229</td>\n",
       "    </tr>\n",
       "    <tr>\n",
       "      <th>3</th>\n",
       "      <td>-1.716006</td>\n",
       "      <td>-0.495337</td>\n",
       "      <td>0.030631</td>\n",
       "    </tr>\n",
       "    <tr>\n",
       "      <th>4</th>\n",
       "      <td>-0.371356</td>\n",
       "      <td>0.301156</td>\n",
       "      <td>-2.841069</td>\n",
       "    </tr>\n",
       "    <tr>\n",
       "      <th>...</th>\n",
       "      <td>...</td>\n",
       "      <td>...</td>\n",
       "      <td>...</td>\n",
       "    </tr>\n",
       "    <tr>\n",
       "      <th>298</th>\n",
       "      <td>1.146672</td>\n",
       "      <td>-0.519529</td>\n",
       "      <td>-1.708020</td>\n",
       "    </tr>\n",
       "    <tr>\n",
       "      <th>299</th>\n",
       "      <td>-0.708593</td>\n",
       "      <td>-1.045752</td>\n",
       "      <td>0.544810</td>\n",
       "    </tr>\n",
       "    <tr>\n",
       "      <th>300</th>\n",
       "      <td>2.459005</td>\n",
       "      <td>0.478262</td>\n",
       "      <td>2.208216</td>\n",
       "    </tr>\n",
       "    <tr>\n",
       "      <th>301</th>\n",
       "      <td>1.762755</td>\n",
       "      <td>-2.336816</td>\n",
       "      <td>0.454753</td>\n",
       "    </tr>\n",
       "    <tr>\n",
       "      <th>302</th>\n",
       "      <td>-0.860057</td>\n",
       "      <td>1.068516</td>\n",
       "      <td>-0.690074</td>\n",
       "    </tr>\n",
       "  </tbody>\n",
       "</table>\n",
       "<p>303 rows × 3 columns</p>\n",
       "</div>"
      ],
      "text/plain": [
       "            0         1         2\n",
       "0    0.624111  2.321270  2.474673\n",
       "1   -0.455988 -0.957351  1.139595\n",
       "2   -1.828805  0.042885 -0.452229\n",
       "3   -1.716006 -0.495337  0.030631\n",
       "4   -0.371356  0.301156 -2.841069\n",
       "..        ...       ...       ...\n",
       "298  1.146672 -0.519529 -1.708020\n",
       "299 -0.708593 -1.045752  0.544810\n",
       "300  2.459005  0.478262  2.208216\n",
       "301  1.762755 -2.336816  0.454753\n",
       "302 -0.860057  1.068516 -0.690074\n",
       "\n",
       "[303 rows x 3 columns]"
      ]
     },
     "execution_count": 25,
     "metadata": {},
     "output_type": "execute_result"
    }
   ],
   "source": [
    "df = pd.DataFrame(X_pca)\n",
    "df"
   ]
  },
  {
   "cell_type": "code",
   "execution_count": 26,
   "id": "66a4c531-8171-4fe6-9cfe-148f9cfc65e0",
   "metadata": {},
   "outputs": [
    {
     "data": {
      "text/plain": [
       "array([0, 0, 0, 0, 0, 0, 0, 0, 0, 0, 0, 0, 0, 1, 0, 0, 0, 1, 0, 0, 0, 0,\n",
       "       0, 1, 0, 0, 0, 0, 0, 0, 0, 0, 0, 0, 0, 1, 0, 0, 0, 0, 0, 0, 1, 0,\n",
       "       0, 0, 0, 0, 0, 0, 0, 0, 1, 0, 0, 0, 0, 0, 0, 0, 0, 0, 0, 0, 0, 0,\n",
       "       0, 0, 0, 0, 0, 0, 0, 0, 0, 0, 0, 0, 0, 1, 0, 0, 0, 0, 0, 1, 0, 0,\n",
       "       0, 1, 0, 0, 0, 0, 0, 1, 1, 0, 0, 0, 0, 1, 0, 0, 0, 1, 0, 0, 0, 0,\n",
       "       1, 0, 0, 0, 0, 0, 0, 0, 0, 0, 1, 0, 0, 0, 0, 0, 0, 0, 0, 1, 0, 0,\n",
       "       0, 0, 0, 0, 0, 0, 1, 1, 0, 0, 0, 0, 0, 0, 0, 0, 0, 0, 0, 1, 0, 0,\n",
       "       0, 0, 0, 0, 1, 0, 0, 0, 0, 0, 0, 1, 1, 1, 1, 1, 0, 0, 0, 0, 1, 1,\n",
       "       1, 0, 1, 1, 1, 1, 0, 0, 1, 0, 1, 1, 0, 0, 1, 1, 1, 1, 0, 1, 0, 1,\n",
       "       1, 0, 0, 1, 1, 1, 1, 0, 1, 1, 1, 0, 0, 1, 0, 1, 1, 1, 1, 1, 1, 1,\n",
       "       1, 1, 0, 1, 1, 1, 1, 1, 0, 1, 0, 1, 1, 1, 1, 1, 0, 1, 1, 0, 1, 1,\n",
       "       1, 1, 1, 0, 1, 1, 0, 1, 1, 1, 1, 1, 0, 1, 1, 1, 1, 0, 1, 0, 1, 1,\n",
       "       1, 1, 1, 0, 1, 1, 0, 0, 1, 0, 1, 0, 1, 0, 0, 1, 1, 0, 0, 0, 1, 1,\n",
       "       0, 0, 1, 1, 0, 1, 1, 0, 1, 1, 1, 1, 1, 0, 1, 1, 0])"
      ]
     },
     "execution_count": 26,
     "metadata": {},
     "output_type": "execute_result"
    }
   ],
   "source": [
    "\n",
    "# Apply K-means clustering\n",
    "kmeans = KMeans(n_clusters=2, random_state=42)\n",
    "kmeans.fit(X_pca)\n",
    "cluster_labels = kmeans.labels_\n",
    "cluster_labels"
   ]
  },
  {
   "cell_type": "code",
   "execution_count": 27,
   "id": "15454f7f-bd98-4bd1-82c9-b1dd629a6a31",
   "metadata": {},
   "outputs": [],
   "source": [
    "sse = []\n",
    "k_rng = range(1,10)\n",
    "for k in k_rng:\n",
    "    km = KMeans(n_clusters=k)\n",
    "    km.fit(df)\n",
    "    sse.append(km.inertia_)"
   ]
  },
  {
   "cell_type": "code",
   "execution_count": 28,
   "id": "82679f6e-4aaa-449c-b69c-18b61018df63",
   "metadata": {},
   "outputs": [
    {
     "data": {
      "text/plain": [
       "[<matplotlib.lines.Line2D at 0x1d1ef58dc90>]"
      ]
     },
     "execution_count": 28,
     "metadata": {},
     "output_type": "execute_result"
    },
    {
     "data": {
      "image/png": "[encoded data removed]",
      "text/plain": [
       "<Figure size 640x480 with 1 Axes>"
      ]
     },
     "metadata": {},
     "output_type": "display_data"
    }
   ],
   "source": [
    "plt.xlabel('K')\n",
    "plt.ylabel('Sum of squared error')\n",
    "plt.plot(k_rng,sse)"
   ]
  },
  {
   "cell_type": "code",
   "execution_count": 29,
   "id": "2afc2814-7a0c-47a0-8201-4f5f13a1816b",
   "metadata": {},
   "outputs": [
    {
     "data": {
      "text/html": [
       "<div>\n",
       "<style scoped>\n",
       "    .dataframe tbody tr th:only-of-type {\n",
       "        vertical-align: middle;\n",
       "    }\n",
       "\n",
       "    .dataframe tbody tr th {\n",
       "        vertical-align: top;\n",
       "    }\n",
       "\n",
       "    .dataframe thead th {\n",
       "        text-align: right;\n",
       "    }\n",
       "</style>\n",
       "<table border=\"1\" class=\"dataframe\">\n",
       "  <thead>\n",
       "    <tr style=\"text-align: right;\">\n",
       "      <th></th>\n",
       "      <th>0</th>\n",
       "      <th>1</th>\n",
       "      <th>2</th>\n",
       "      <th>cluster</th>\n",
       "    </tr>\n",
       "  </thead>\n",
       "  <tbody>\n",
       "    <tr>\n",
       "      <th>0</th>\n",
       "      <td>0.624111</td>\n",
       "      <td>2.321270</td>\n",
       "      <td>2.474673</td>\n",
       "      <td>0</td>\n",
       "    </tr>\n",
       "    <tr>\n",
       "      <th>1</th>\n",
       "      <td>-0.455988</td>\n",
       "      <td>-0.957351</td>\n",
       "      <td>1.139595</td>\n",
       "      <td>0</td>\n",
       "    </tr>\n",
       "    <tr>\n",
       "      <th>2</th>\n",
       "      <td>-1.828805</td>\n",
       "      <td>0.042885</td>\n",
       "      <td>-0.452229</td>\n",
       "      <td>0</td>\n",
       "    </tr>\n",
       "    <tr>\n",
       "      <th>3</th>\n",
       "      <td>-1.716006</td>\n",
       "      <td>-0.495337</td>\n",
       "      <td>0.030631</td>\n",
       "      <td>0</td>\n",
       "    </tr>\n",
       "    <tr>\n",
       "      <th>4</th>\n",
       "      <td>-0.371356</td>\n",
       "      <td>0.301156</td>\n",
       "      <td>-2.841069</td>\n",
       "      <td>0</td>\n",
       "    </tr>\n",
       "  </tbody>\n",
       "</table>\n",
       "</div>"
      ],
      "text/plain": [
       "          0         1         2  cluster\n",
       "0  0.624111  2.321270  2.474673        0\n",
       "1 -0.455988 -0.957351  1.139595        0\n",
       "2 -1.828805  0.042885 -0.452229        0\n",
       "3 -1.716006 -0.495337  0.030631        0\n",
       "4 -0.371356  0.301156 -2.841069        0"
      ]
     },
     "execution_count": 29,
     "metadata": {},
     "output_type": "execute_result"
    }
   ],
   "source": [
    "df['cluster']=cluster_labels\n",
    "df.head()"
   ]
  },
  {
   "cell_type": "code",
   "execution_count": 30,
   "id": "cb662f44-b1f9-46f9-8fc9-3e0cc12e9797",
   "metadata": {},
   "outputs": [],
   "source": [
    "x=df.iloc[:,1:3]\n",
    "y=df.iloc[:,-1]"
   ]
  },
  {
   "cell_type": "code",
   "execution_count": 31,
   "id": "d43e258e-5de7-44c2-b6a8-9e144ce2cf1f",
   "metadata": {},
   "outputs": [],
   "source": [
    "from sklearn.model_selection import train_test_split\n",
    "X_train, X_test, y_train, y_test = train_test_split(x,y,test_size=0.2, random_state=2)"
   ]
  },
  {
   "cell_type": "code",
   "execution_count": 32,
   "id": "5c16de02-5dc1-4b2f-9aad-f0af6e178a68",
   "metadata": {},
   "outputs": [],
   "source": [
    "lr = LogisticRegression()"
   ]
  },
  {
   "cell_type": "code",
   "execution_count": 33,
   "id": "cb0efbc0-d649-4e57-8489-c2dfa71fda4d",
   "metadata": {},
   "outputs": [
    {
     "data": {
      "text/plain": [
       "0.6229508196721312"
      ]
     },
     "execution_count": 33,
     "metadata": {},
     "output_type": "execute_result"
    }
   ],
   "source": [
    "lr.fit(X_train,y_train)\n",
    "y_pred = lr.predict(X_test)\n",
    "accuracy_score(y_test,y_pred)"
   ]
  }
 ],
 "metadata": {
  "kernelspec": {
   "display_name": "Python 3 (ipykernel)",
   "language": "python",
   "name": "python3"
  },
  "language_info": {
   "codemirror_mode": {
    "name": "ipython",
    "version": 3
   },
   "file_extension": ".py",
   "mimetype": "text/x-python",
   "name": "python",
   "nbconvert_exporter": "python",
   "pygments_lexer": "ipython3",
   "version": "3.9.12"
  }
 },
 "nbformat": 4,
 "nbformat_minor": 5
}
