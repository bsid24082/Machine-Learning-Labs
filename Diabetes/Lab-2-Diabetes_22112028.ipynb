{
 "cells": [
  {
   "cell_type": "code",
   "execution_count": 23,
   "id": "10822577",
   "metadata": {},
   "outputs": [],
   "source": [
    "##Libraries used:-\n",
    "import pandas as pd\n",
    "import numpy as np\n",
    "from sklearn.model_selection import train_test_split\n",
    "from sklearn.neighbors import KNeighborsClassifier\n",
    "from sklearn.preprocessing import StandardScaler\n",
    "import matplotlib.pyplot as plt\n",
    "from sklearn.metrics import accuracy_score\n",
    "from sklearn import preprocessing\n",
    "from sklearn.decomposition import PCA\n",
    "from mlxtend.plotting import plot_decision_regions"
   ]
  },
  {
   "cell_type": "code",
   "execution_count": 24,
   "id": "6266525b",
   "metadata": {},
   "outputs": [],
   "source": [
    "## Importing the Dataset using pandas\n",
    "df = pd.read_csv(\"diabetes.csv\")"
   ]
  },
  {
   "cell_type": "code",
   "execution_count": 25,
   "id": "28137533",
   "metadata": {},
   "outputs": [
    {
     "data": {
      "text/html": [
       "<div>\n",
       "<style scoped>\n",
       "    .dataframe tbody tr th:only-of-type {\n",
       "        vertical-align: middle;\n",
       "    }\n",
       "\n",
       "    .dataframe tbody tr th {\n",
       "        vertical-align: top;\n",
       "    }\n",
       "\n",
       "    .dataframe thead th {\n",
       "        text-align: right;\n",
       "    }\n",
       "</style>\n",
       "<table border=\"1\" class=\"dataframe\">\n",
       "  <thead>\n",
       "    <tr style=\"text-align: right;\">\n",
       "      <th></th>\n",
       "      <th>pregnant</th>\n",
       "      <th>glucose</th>\n",
       "      <th>bp</th>\n",
       "      <th>skin</th>\n",
       "      <th>insulin</th>\n",
       "      <th>bmi</th>\n",
       "      <th>pedigree</th>\n",
       "      <th>age</th>\n",
       "      <th>label</th>\n",
       "    </tr>\n",
       "  </thead>\n",
       "  <tbody>\n",
       "    <tr>\n",
       "      <th>0</th>\n",
       "      <td>6</td>\n",
       "      <td>148</td>\n",
       "      <td>72</td>\n",
       "      <td>35</td>\n",
       "      <td>0</td>\n",
       "      <td>33.6</td>\n",
       "      <td>0.627</td>\n",
       "      <td>50</td>\n",
       "      <td>1</td>\n",
       "    </tr>\n",
       "    <tr>\n",
       "      <th>1</th>\n",
       "      <td>1</td>\n",
       "      <td>85</td>\n",
       "      <td>66</td>\n",
       "      <td>29</td>\n",
       "      <td>0</td>\n",
       "      <td>26.6</td>\n",
       "      <td>0.351</td>\n",
       "      <td>31</td>\n",
       "      <td>0</td>\n",
       "    </tr>\n",
       "    <tr>\n",
       "      <th>2</th>\n",
       "      <td>8</td>\n",
       "      <td>183</td>\n",
       "      <td>64</td>\n",
       "      <td>0</td>\n",
       "      <td>0</td>\n",
       "      <td>23.3</td>\n",
       "      <td>0.672</td>\n",
       "      <td>32</td>\n",
       "      <td>1</td>\n",
       "    </tr>\n",
       "    <tr>\n",
       "      <th>3</th>\n",
       "      <td>1</td>\n",
       "      <td>89</td>\n",
       "      <td>66</td>\n",
       "      <td>23</td>\n",
       "      <td>94</td>\n",
       "      <td>28.1</td>\n",
       "      <td>0.167</td>\n",
       "      <td>21</td>\n",
       "      <td>0</td>\n",
       "    </tr>\n",
       "    <tr>\n",
       "      <th>4</th>\n",
       "      <td>0</td>\n",
       "      <td>137</td>\n",
       "      <td>40</td>\n",
       "      <td>35</td>\n",
       "      <td>168</td>\n",
       "      <td>43.1</td>\n",
       "      <td>2.288</td>\n",
       "      <td>33</td>\n",
       "      <td>1</td>\n",
       "    </tr>\n",
       "    <tr>\n",
       "      <th>5</th>\n",
       "      <td>5</td>\n",
       "      <td>116</td>\n",
       "      <td>74</td>\n",
       "      <td>0</td>\n",
       "      <td>0</td>\n",
       "      <td>25.6</td>\n",
       "      <td>0.201</td>\n",
       "      <td>30</td>\n",
       "      <td>0</td>\n",
       "    </tr>\n",
       "    <tr>\n",
       "      <th>6</th>\n",
       "      <td>3</td>\n",
       "      <td>78</td>\n",
       "      <td>50</td>\n",
       "      <td>32</td>\n",
       "      <td>88</td>\n",
       "      <td>31.0</td>\n",
       "      <td>0.248</td>\n",
       "      <td>26</td>\n",
       "      <td>1</td>\n",
       "    </tr>\n",
       "    <tr>\n",
       "      <th>7</th>\n",
       "      <td>10</td>\n",
       "      <td>115</td>\n",
       "      <td>0</td>\n",
       "      <td>0</td>\n",
       "      <td>0</td>\n",
       "      <td>35.3</td>\n",
       "      <td>0.134</td>\n",
       "      <td>29</td>\n",
       "      <td>0</td>\n",
       "    </tr>\n",
       "    <tr>\n",
       "      <th>8</th>\n",
       "      <td>2</td>\n",
       "      <td>197</td>\n",
       "      <td>70</td>\n",
       "      <td>45</td>\n",
       "      <td>543</td>\n",
       "      <td>30.5</td>\n",
       "      <td>0.158</td>\n",
       "      <td>53</td>\n",
       "      <td>1</td>\n",
       "    </tr>\n",
       "    <tr>\n",
       "      <th>9</th>\n",
       "      <td>8</td>\n",
       "      <td>125</td>\n",
       "      <td>96</td>\n",
       "      <td>0</td>\n",
       "      <td>0</td>\n",
       "      <td>0.0</td>\n",
       "      <td>0.232</td>\n",
       "      <td>54</td>\n",
       "      <td>1</td>\n",
       "    </tr>\n",
       "  </tbody>\n",
       "</table>\n",
       "</div>"
      ],
      "text/plain": [
       "   pregnant  glucose  bp  skin  insulin   bmi  pedigree  age  label\n",
       "0         6      148  72    35        0  33.6     0.627   50      1\n",
       "1         1       85  66    29        0  26.6     0.351   31      0\n",
       "2         8      183  64     0        0  23.3     0.672   32      1\n",
       "3         1       89  66    23       94  28.1     0.167   21      0\n",
       "4         0      137  40    35      168  43.1     2.288   33      1\n",
       "5         5      116  74     0        0  25.6     0.201   30      0\n",
       "6         3       78  50    32       88  31.0     0.248   26      1\n",
       "7        10      115   0     0        0  35.3     0.134   29      0\n",
       "8         2      197  70    45      543  30.5     0.158   53      1\n",
       "9         8      125  96     0        0   0.0     0.232   54      1"
      ]
     },
     "execution_count": 25,
     "metadata": {},
     "output_type": "execute_result"
    }
   ],
   "source": [
    "## Observing the top 10 entries of the dataset using head()\n",
    "df.head(10)"
   ]
  },
  {
   "cell_type": "code",
   "execution_count": 26,
   "id": "419f69e7",
   "metadata": {},
   "outputs": [
    {
     "data": {
      "text/plain": [
       "pregnant    0\n",
       "glucose     0\n",
       "bp          0\n",
       "skin        0\n",
       "insulin     0\n",
       "bmi         0\n",
       "pedigree    0\n",
       "age         0\n",
       "label       0\n",
       "dtype: int64"
      ]
     },
     "execution_count": 26,
     "metadata": {},
     "output_type": "execute_result"
    }
   ],
   "source": [
    "## Checking for the missing/null values.\n",
    "df.isna().sum()\n",
    "\n",
    "## No feature holds any null values"
   ]
  },
  {
   "cell_type": "code",
   "execution_count": 27,
   "id": "8ed15ff6",
   "metadata": {},
   "outputs": [],
   "source": [
    "## Using Integer based indexing to extract the features that we will use for the model\n",
    "## x -> represents the independent variables\n",
    "## y -> represents the dependent variable.\n",
    "x = df.iloc[:, 0:8]\n",
    "y = df.iloc[:,8]"
   ]
  },
  {
   "cell_type": "code",
   "execution_count": 28,
   "id": "8e7f31d1",
   "metadata": {},
   "outputs": [
    {
     "data": {
      "text/html": [
       "<div>\n",
       "<style scoped>\n",
       "    .dataframe tbody tr th:only-of-type {\n",
       "        vertical-align: middle;\n",
       "    }\n",
       "\n",
       "    .dataframe tbody tr th {\n",
       "        vertical-align: top;\n",
       "    }\n",
       "\n",
       "    .dataframe thead th {\n",
       "        text-align: right;\n",
       "    }\n",
       "</style>\n",
       "<table border=\"1\" class=\"dataframe\">\n",
       "  <thead>\n",
       "    <tr style=\"text-align: right;\">\n",
       "      <th></th>\n",
       "      <th>pregnant</th>\n",
       "      <th>glucose</th>\n",
       "      <th>bp</th>\n",
       "      <th>skin</th>\n",
       "      <th>insulin</th>\n",
       "      <th>bmi</th>\n",
       "      <th>pedigree</th>\n",
       "      <th>age</th>\n",
       "    </tr>\n",
       "  </thead>\n",
       "  <tbody>\n",
       "    <tr>\n",
       "      <th>0</th>\n",
       "      <td>6</td>\n",
       "      <td>148</td>\n",
       "      <td>72</td>\n",
       "      <td>35</td>\n",
       "      <td>0</td>\n",
       "      <td>33.6</td>\n",
       "      <td>0.627</td>\n",
       "      <td>50</td>\n",
       "    </tr>\n",
       "    <tr>\n",
       "      <th>1</th>\n",
       "      <td>1</td>\n",
       "      <td>85</td>\n",
       "      <td>66</td>\n",
       "      <td>29</td>\n",
       "      <td>0</td>\n",
       "      <td>26.6</td>\n",
       "      <td>0.351</td>\n",
       "      <td>31</td>\n",
       "    </tr>\n",
       "    <tr>\n",
       "      <th>2</th>\n",
       "      <td>8</td>\n",
       "      <td>183</td>\n",
       "      <td>64</td>\n",
       "      <td>0</td>\n",
       "      <td>0</td>\n",
       "      <td>23.3</td>\n",
       "      <td>0.672</td>\n",
       "      <td>32</td>\n",
       "    </tr>\n",
       "    <tr>\n",
       "      <th>3</th>\n",
       "      <td>1</td>\n",
       "      <td>89</td>\n",
       "      <td>66</td>\n",
       "      <td>23</td>\n",
       "      <td>94</td>\n",
       "      <td>28.1</td>\n",
       "      <td>0.167</td>\n",
       "      <td>21</td>\n",
       "    </tr>\n",
       "    <tr>\n",
       "      <th>4</th>\n",
       "      <td>0</td>\n",
       "      <td>137</td>\n",
       "      <td>40</td>\n",
       "      <td>35</td>\n",
       "      <td>168</td>\n",
       "      <td>43.1</td>\n",
       "      <td>2.288</td>\n",
       "      <td>33</td>\n",
       "    </tr>\n",
       "    <tr>\n",
       "      <th>...</th>\n",
       "      <td>...</td>\n",
       "      <td>...</td>\n",
       "      <td>...</td>\n",
       "      <td>...</td>\n",
       "      <td>...</td>\n",
       "      <td>...</td>\n",
       "      <td>...</td>\n",
       "      <td>...</td>\n",
       "    </tr>\n",
       "    <tr>\n",
       "      <th>763</th>\n",
       "      <td>10</td>\n",
       "      <td>101</td>\n",
       "      <td>76</td>\n",
       "      <td>48</td>\n",
       "      <td>180</td>\n",
       "      <td>32.9</td>\n",
       "      <td>0.171</td>\n",
       "      <td>63</td>\n",
       "    </tr>\n",
       "    <tr>\n",
       "      <th>764</th>\n",
       "      <td>2</td>\n",
       "      <td>122</td>\n",
       "      <td>70</td>\n",
       "      <td>27</td>\n",
       "      <td>0</td>\n",
       "      <td>36.8</td>\n",
       "      <td>0.340</td>\n",
       "      <td>27</td>\n",
       "    </tr>\n",
       "    <tr>\n",
       "      <th>765</th>\n",
       "      <td>5</td>\n",
       "      <td>121</td>\n",
       "      <td>72</td>\n",
       "      <td>23</td>\n",
       "      <td>112</td>\n",
       "      <td>26.2</td>\n",
       "      <td>0.245</td>\n",
       "      <td>30</td>\n",
       "    </tr>\n",
       "    <tr>\n",
       "      <th>766</th>\n",
       "      <td>1</td>\n",
       "      <td>126</td>\n",
       "      <td>60</td>\n",
       "      <td>0</td>\n",
       "      <td>0</td>\n",
       "      <td>30.1</td>\n",
       "      <td>0.349</td>\n",
       "      <td>47</td>\n",
       "    </tr>\n",
       "    <tr>\n",
       "      <th>767</th>\n",
       "      <td>1</td>\n",
       "      <td>93</td>\n",
       "      <td>70</td>\n",
       "      <td>31</td>\n",
       "      <td>0</td>\n",
       "      <td>30.4</td>\n",
       "      <td>0.315</td>\n",
       "      <td>23</td>\n",
       "    </tr>\n",
       "  </tbody>\n",
       "</table>\n",
       "<p>768 rows × 8 columns</p>\n",
       "</div>"
      ],
      "text/plain": [
       "     pregnant  glucose  bp  skin  insulin   bmi  pedigree  age\n",
       "0           6      148  72    35        0  33.6     0.627   50\n",
       "1           1       85  66    29        0  26.6     0.351   31\n",
       "2           8      183  64     0        0  23.3     0.672   32\n",
       "3           1       89  66    23       94  28.1     0.167   21\n",
       "4           0      137  40    35      168  43.1     2.288   33\n",
       "..        ...      ...  ..   ...      ...   ...       ...  ...\n",
       "763        10      101  76    48      180  32.9     0.171   63\n",
       "764         2      122  70    27        0  36.8     0.340   27\n",
       "765         5      121  72    23      112  26.2     0.245   30\n",
       "766         1      126  60     0        0  30.1     0.349   47\n",
       "767         1       93  70    31        0  30.4     0.315   23\n",
       "\n",
       "[768 rows x 8 columns]"
      ]
     },
     "metadata": {},
     "output_type": "display_data"
    }
   ],
   "source": [
    "### Confirming the features of 'x' selected are valid using display()\n",
    "display(x)"
   ]
  },
  {
   "cell_type": "code",
   "execution_count": 29,
   "id": "3e2589ed",
   "metadata": {},
   "outputs": [
    {
     "data": {
      "text/plain": [
       "0      1\n",
       "1      0\n",
       "2      1\n",
       "3      0\n",
       "4      1\n",
       "      ..\n",
       "763    0\n",
       "764    0\n",
       "765    0\n",
       "766    1\n",
       "767    0\n",
       "Name: label, Length: 768, dtype: int64"
      ]
     },
     "metadata": {},
     "output_type": "display_data"
    }
   ],
   "source": [
    "### Confirming the features of 'y' selected are valid using display()\n",
    "display(y)"
   ]
  },
  {
   "cell_type": "markdown",
   "id": "45e6d370",
   "metadata": {},
   "source": [
    "### This code uses train_test_split to split data (x, y) into training and testing sets (80-20 ratio) with a fixed random state."
   ]
  },
  {
   "cell_type": "code",
   "execution_count": 30,
   "id": "bcc6c323",
   "metadata": {},
   "outputs": [],
   "source": [
    "X_train, X_test, y_train, y_test = train_test_split(x, y, test_size = 0.2, random_state = 12)"
   ]
  },
  {
   "cell_type": "code",
   "execution_count": 31,
   "id": "273f48c5",
   "metadata": {},
   "outputs": [
    {
     "data": {
      "text/plain": [
       "294    0\n",
       "597    0\n",
       "749    1\n",
       "647    1\n",
       "755    1\n",
       "      ..\n",
       "642    1\n",
       "241    0\n",
       "253    0\n",
       "390    0\n",
       "667    1\n",
       "Name: label, Length: 614, dtype: int64"
      ]
     },
     "execution_count": 31,
     "metadata": {},
     "output_type": "execute_result"
    }
   ],
   "source": [
    "y_train"
   ]
  },
  {
   "cell_type": "markdown",
   "id": "e7f993f9",
   "metadata": {},
   "source": [
    "### It standardizes features in X_train and X_test using StandardScaler, ensuring consistent scale for more effective machine learning modeling in this case the KNN modelling.\n",
    "\n",
    "\n",
    "\n",
    "\n",
    "\n"
   ]
  },
  {
   "cell_type": "code",
   "execution_count": 32,
   "id": "31c0d28a",
   "metadata": {},
   "outputs": [],
   "source": [
    "scaler = StandardScaler()\n",
    "X_train = scaler.fit_transform(X_train)\n",
    "X_test = scaler.transform(X_test)"
   ]
  },
  {
   "cell_type": "code",
   "execution_count": 33,
   "id": "b996c3f3",
   "metadata": {},
   "outputs": [
    {
     "data": {
      "text/plain": [
       "(614, 8)"
      ]
     },
     "execution_count": 33,
     "metadata": {},
     "output_type": "execute_result"
    }
   ],
   "source": [
    "## It is used for checking and displaying the shape (dimensions) of the X_train dataset.\n",
    "X_train.shape"
   ]
  },
  {
   "cell_type": "code",
   "execution_count": 34,
   "id": "0a9823b2",
   "metadata": {},
   "outputs": [
    {
     "data": {
      "text/plain": [
       "array([[-1.12375096, -0.11702611,  0.57870657, ...,  1.64850044,\n",
       "        -1.15060543, -0.78538173],\n",
       "       [ 0.05118832,  1.59984014,  0.15962848, ...,  1.4504441 ,\n",
       "         0.01706201, -0.61266526],\n",
       "       [ 0.05118832,  0.48705646,  0.05485896, ..., -0.08449248,\n",
       "         2.12185742, -0.95809819],\n",
       "       ...,\n",
       "       [-1.12375096,  2.45827327, -0.15468008, ...,  1.16573812,\n",
       "         0.08592445, -0.43994879],\n",
       "       [ 1.51986241, -0.5939334 ,  0.36916752, ...,  0.12594238,\n",
       "         0.57394956,  1.11449943],\n",
       "       [-1.12375096,  0.20091208,  0.57870657, ...,  0.54681208,\n",
       "         0.99011821, -0.87173996]])"
      ]
     },
     "execution_count": 34,
     "metadata": {},
     "output_type": "execute_result"
    }
   ],
   "source": [
    "X_test"
   ]
  },
  {
   "cell_type": "markdown",
   "id": "8a6529c5",
   "metadata": {},
   "source": [
    "### This initializes a k-nearest neighbors classifier (KNeighborsClassifier) with 43 neighbors for classification tasks. \n",
    "#### -> K Nearest Neighbor is a supervised learning.\n",
    "#### -> We perform this method of modelling when we categorical data, but perform both regression and classification based problems.\n"
   ]
  },
  {
   "cell_type": "code",
   "execution_count": 69,
   "id": "1e5a8d7b",
   "metadata": {},
   "outputs": [],
   "source": [
    "## We initisalise the neighbors to check, the neighbors are always set odd to \n",
    "knn = KNeighborsClassifier(n_neighbors=43)"
   ]
  },
  {
   "cell_type": "code",
   "execution_count": 46,
   "id": "7f89a32f",
   "metadata": {},
   "outputs": [
    {
     "data": {
      "text/plain": [
       "KNeighborsClassifier(n_neighbors=43)"
      ]
     },
     "execution_count": 46,
     "metadata": {},
     "output_type": "execute_result"
    }
   ],
   "source": [
    "## This trains thee k-nearest neighbors classifier (knn) on the training data (X_train, y_train) using the fit method.\n",
    "knn.fit(X_train, y_train)"
   ]
  },
  {
   "cell_type": "code",
   "execution_count": 47,
   "id": "0eb31531",
   "metadata": {},
   "outputs": [
    {
     "data": {
      "text/plain": [
       "0.8246753246753247"
      ]
     },
     "execution_count": 47,
     "metadata": {},
     "output_type": "execute_result"
    }
   ],
   "source": [
    "## We check the accuracy of the knn model using the code.\n",
    "y_pred = knn.predict(X_test)\n",
    "accuracy_score(y_test, y_pred)"
   ]
  },
  {
   "cell_type": "markdown",
   "id": "73c1b18c",
   "metadata": {},
   "source": [
    "### Iterating the knn values in the range of 0-100 and plot it to find the value of knn which provides the most accuracy "
   ]
  },
  {
   "cell_type": "code",
   "execution_count": 44,
   "id": "ce5dd4db",
   "metadata": {},
   "outputs": [],
   "source": [
    "# scores = []\n",
    "# for i in range(1,100):\n",
    "#     knn = KNeighborsClassifier(n_neighbors = i)\n",
    "#     knn.fit(X_train, y_train)\n",
    "#     y_pred = knn.predict(X_test)\n",
    "#     scores.append(accuracy_score(y_test, y_pred))"
   ]
  },
  {
   "cell_type": "code",
   "execution_count": 42,
   "id": "91edb54f",
   "metadata": {},
   "outputs": [
    {
     "data": {
      "text/plain": [
       "[<matplotlib.lines.Line2D at 0x7f851357aac0>]"
      ]
     },
     "execution_count": 42,
     "metadata": {},
     "output_type": "execute_result"
    },
    {
     "data": {
      "image/png": "[encoded data removed]",
      "text/plain": [
       "<Figure size 432x288 with 1 Axes>"
      ]
     },
     "metadata": {
      "needs_background": "light"
     },
     "output_type": "display_data"
    }
   ],
   "source": [
    "# # According to the plot the best value for the knn is 43.\n",
    "# plt.plot(range(1,100), scores)"
   ]
  },
  {
   "cell_type": "code",
   "execution_count": 43,
   "id": "d9d70bce",
   "metadata": {},
   "outputs": [],
   "source": [
    "## As our dependent variable, \"label\" is already encoded in 0 or 1, so we dont need to encode it.\n",
    "# label_encoder = preprocessing.LabelEncoder()\n",
    "# y_trans = label_encoder.fit_transform(y_train)"
   ]
  },
  {
   "cell_type": "markdown",
   "id": "c6772115",
   "metadata": {},
   "source": [
    "### Principal Component Analysis (PCA) reduces features to 2 components in X_train. K-nearest neighbors (KNN) model is trained using transformed data (X_train2) and target labels (y_train)."
   ]
  },
  {
   "cell_type": "code",
   "execution_count": 48,
   "id": "dc029147",
   "metadata": {},
   "outputs": [
    {
     "data": {
      "text/plain": [
       "KNeighborsClassifier(n_neighbors=43)"
      ]
     },
     "execution_count": 48,
     "metadata": {},
     "output_type": "execute_result"
    }
   ],
   "source": [
    "pca =  PCA(n_components = 2)\n",
    "X_train2 = pca.fit_transform(X_train)\n",
    "knn.fit(X_train2, y_train)"
   ]
  },
  {
   "cell_type": "code",
   "execution_count": 51,
   "id": "9261e652",
   "metadata": {},
   "outputs": [],
   "source": [
    "## We are converting the y_train to an array as plot_decision_regions only take numpy arrays.\n",
    "y_train = np.array(y_train)"
   ]
  },
  {
   "cell_type": "markdown",
   "id": "88527610",
   "metadata": {},
   "source": [
    "#### A plot is created with a size of 13x10. Decision regions is getting plotted for the KNN classifier using transformed training data (X_train2) which we did above using \"PCA\",  Axes are labeled as Feature-1 and Feature-2, and the title of the plot is \"Decision Boundary.\" "
   ]
  },
  {
   "cell_type": "code",
   "execution_count": 50,
   "id": "b581f394",
   "metadata": {},
   "outputs": [
    {
     "data": {
      "image/png": "[encoded data removed]",
      "text/plain": [
       "<Figure size 936x720 with 1 Axes>"
      ]
     },
     "metadata": {
      "needs_background": "light"
     },
     "output_type": "display_data"
    }
   ],
   "source": [
    "\n",
    "##  X and y have to be numpy arrays and the clf needs to have a predict() method.\n",
    "plt.figure(figsize=(13, 10))\n",
    "plot_decision_regions(X_train2, y_train, clf = knn, legend = 2) \n",
    "plt.xlabel(\"Feature-1\")\n",
    "plt.ylabel(\"Feature-2\")\n",
    "plt.title(\"Descision Boundary\")\n",
    "plt.show()"
   ]
  },
  {
   "cell_type": "markdown",
   "id": "b679e7e3",
   "metadata": {},
   "source": [
    "## To check the accuracy of the models using different metrics:-"
   ]
  },
  {
   "cell_type": "markdown",
   "id": "5c6e0136",
   "metadata": {},
   "source": [
    "### 1) Manhattan Distance:\n",
    "-> Manhattan distance is suitable for cases where the impact of variable magnitudes matters less or for vategorical and ordinal independent variables, there are many rows with zeros in it.  \n",
    "\n",
    "-> The accuracy of 78.57% suggests that,it is less effective that the other 2 metrics which usually deals with numerical and categorical data"
   ]
  },
  {
   "cell_type": "code",
   "execution_count": 56,
   "id": "ba0cfc45",
   "metadata": {},
   "outputs": [],
   "source": [
    "knn2 = KNeighborsClassifier(n_neighbors=43, metric = \"manhattan\")"
   ]
  },
  {
   "cell_type": "code",
   "execution_count": 57,
   "id": "07bf2a60",
   "metadata": {},
   "outputs": [
    {
     "data": {
      "text/plain": [
       "KNeighborsClassifier(metric='manhattan', n_neighbors=43)"
      ]
     },
     "execution_count": 57,
     "metadata": {},
     "output_type": "execute_result"
    }
   ],
   "source": [
    "knn2.fit(X_train, y_train)"
   ]
  },
  {
   "cell_type": "code",
   "execution_count": 80,
   "id": "537ad5d8",
   "metadata": {},
   "outputs": [
    {
     "name": "stdout",
     "output_type": "stream",
     "text": [
      "The accuracy score of Hamming distance is:  0.7857142857142857\n"
     ]
    }
   ],
   "source": [
    "y_pred = knn2.predict(X_test)\n",
    "print(\"The accuracy score of Hamming distance is: \",accuracy_score(y_test, y_pred))"
   ]
  },
  {
   "cell_type": "markdown",
   "id": "7ad8bec8",
   "metadata": {},
   "source": [
    "### 2) Euclidean Distance:\n",
    "-> Euclidean distance is appropriate for continuous numerical data, measuring straight-line distance between points.\n",
    "\n",
    "-> The accuracy of 82.47% suggests the model performed well using Euclidean distance, capturing numerical feature relationships effectively in the specified k-nearest neighbors modelling."
   ]
  },
  {
   "cell_type": "code",
   "execution_count": 73,
   "id": "e31989e8",
   "metadata": {},
   "outputs": [],
   "source": [
    "knn3 = KNeighborsClassifier(n_neighbors=43, metric = \"euclidean\")"
   ]
  },
  {
   "cell_type": "code",
   "execution_count": 74,
   "id": "379ac14a",
   "metadata": {},
   "outputs": [
    {
     "data": {
      "text/plain": [
       "KNeighborsClassifier(metric='euclidean', n_neighbors=43)"
      ]
     },
     "execution_count": 74,
     "metadata": {},
     "output_type": "execute_result"
    }
   ],
   "source": [
    "knn3.fit(X_train, y_train)"
   ]
  },
  {
   "cell_type": "code",
   "execution_count": 76,
   "id": "895f8164",
   "metadata": {},
   "outputs": [
    {
     "name": "stdout",
     "output_type": "stream",
     "text": [
      "The accuracy score of Hamming distance is:  0.8246753246753247\n"
     ]
    }
   ],
   "source": [
    "y_pred = knn3.predict(X_test)\n",
    "print(\"The accuracy score of Hamming distance is: \",accuracy_score(y_test, y_pred))"
   ]
  },
  {
   "cell_type": "markdown",
   "id": "f7964066",
   "metadata": {},
   "source": [
    "### 3) Hamming Distance:\n",
    "-> Hamming distance is typically used when dealing with categorical or binary data, such as in text classification or DNA sequence analysis. \n",
    "\n",
    "-> When used gave an accuracy of 65.58% which is quite low as the dataset is not much suitable for the particular method.\n",
    "                           "
   ]
  },
  {
   "cell_type": "code",
   "execution_count": 63,
   "id": "b7fda9a2",
   "metadata": {},
   "outputs": [],
   "source": [
    "knn4 = KNeighborsClassifier(n_neighbors=43, metric = \"hamming\")"
   ]
  },
  {
   "cell_type": "code",
   "execution_count": 64,
   "id": "48638222",
   "metadata": {},
   "outputs": [
    {
     "data": {
      "text/plain": [
       "KNeighborsClassifier(metric='hamming', n_neighbors=43)"
      ]
     },
     "execution_count": 64,
     "metadata": {},
     "output_type": "execute_result"
    }
   ],
   "source": [
    "knn4.fit(X_train, y_train)"
   ]
  },
  {
   "cell_type": "code",
   "execution_count": 70,
   "id": "0a993662",
   "metadata": {},
   "outputs": [
    {
     "name": "stdout",
     "output_type": "stream",
     "text": [
      "The accuracy score of Hamming distance is:  0.6558441558441559\n"
     ]
    }
   ],
   "source": [
    "y_pred = knn4.predict(X_test)\n",
    "print(\"The accuracy score of Hamming distance is: \",accuracy_score(y_test, y_pred))"
   ]
  },
  {
   "cell_type": "markdown",
   "id": "d9fc3d69",
   "metadata": {},
   "source": [
    "###### 4) Minkowski Distance: \n",
    "-> Minkowski distance is a generalization of both Euclidean and Manhattan distances, it is used for both categorical and numericakl to adjust the sensitivity of the outliers.\n",
    "\n",
    "-> The accuracy of 82.46% indicates the model's is effective and performed well as our data is numerical and our target variable is categorcial.\n",
    "                            "
   ]
  },
  {
   "cell_type": "code",
   "execution_count": 77,
   "id": "49dd752e",
   "metadata": {},
   "outputs": [],
   "source": [
    "knn = KNeighborsClassifier(n_neighbors=43)"
   ]
  },
  {
   "cell_type": "code",
   "execution_count": 78,
   "id": "17895e80",
   "metadata": {},
   "outputs": [
    {
     "data": {
      "text/plain": [
       "KNeighborsClassifier(n_neighbors=43)"
      ]
     },
     "execution_count": 78,
     "metadata": {},
     "output_type": "execute_result"
    }
   ],
   "source": [
    "knn.fit(X_train, y_train)"
   ]
  },
  {
   "cell_type": "code",
   "execution_count": 79,
   "id": "ab4accef",
   "metadata": {},
   "outputs": [
    {
     "name": "stdout",
     "output_type": "stream",
     "text": [
      "The accuracy score of Hamming distance is:  0.8246753246753247\n"
     ]
    }
   ],
   "source": [
    "y_pred = knn.predict(X_test)\n",
    "print(\"The accuracy score of Hamming distance is: \",accuracy_score(y_test, y_pred))"
   ]
  },
  {
   "cell_type": "code",
   "execution_count": null,
   "id": "4583076c",
   "metadata": {},
   "outputs": [],
   "source": []
  }
 ],
 "metadata": {
  "kernelspec": {
   "display_name": "Python 3 (ipykernel)",
   "language": "python",
   "name": "python3"
  },
  "language_info": {
   "codemirror_mode": {
    "name": "ipython",
    "version": 3
   },
   "file_extension": ".py",
   "mimetype": "text/x-python",
   "name": "python",
   "nbconvert_exporter": "python",
   "pygments_lexer": "ipython3",
   "version": "3.9.12"
  }
 },
 "nbformat": 4,
 "nbformat_minor": 5
}
